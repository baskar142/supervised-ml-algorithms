{
 "cells": [
  {
   "cell_type": "code",
   "execution_count": 3,
   "id": "47f0364c",
   "metadata": {},
   "outputs": [],
   "source": [
    "#importing pickle file and  used for serializing and deserializing Python objects. \n",
    "import pickle \n",
    "\n",
    "#the mode 'rb' used in file operations stands for \"read binary\" and saved in laoded model\n",
    "load_model = pickle.load((open(\"ModelInsuranceSvmrBest.sav\",\"rb\")))"
   ]
  },
  {
   "cell_type": "code",
   "execution_count": 4,
   "id": "be7ba013",
   "metadata": {},
   "outputs": [
    {
     "name": "stdout",
     "output_type": "stream",
     "text": [
      "[10746.86360924]\n"
     ]
    }
   ],
   "source": [
    "# the mode 'rb' used in file operations stands for \"read binary\" and saved in laoded model\n",
    "loaded_model = pickle.load(open('ModelInsuranceSvmrBest.sav','rb'))\n",
    "#using predict keyeword, predicting 15 years of experience of emplyee and predicted value store in result variable\n",
    "result = loaded_model.predict([[0.87891202, -2.15362274, -0.93291079, -1.09394758, -0.51395617]])\n",
    "#pring the result\n",
    "print(result)"
   ]
  },
  {
   "cell_type": "code",
   "execution_count": null,
   "id": "0d93dce7",
   "metadata": {},
   "outputs": [],
   "source": []
  }
 ],
 "metadata": {
  "kernelspec": {
   "display_name": "Python 3 (ipykernel)",
   "language": "python",
   "name": "python3"
  },
  "language_info": {
   "codemirror_mode": {
    "name": "ipython",
    "version": 3
   },
   "file_extension": ".py",
   "mimetype": "text/x-python",
   "name": "python",
   "nbconvert_exporter": "python",
   "pygments_lexer": "ipython3",
   "version": "3.9.13"
  }
 },
 "nbformat": 4,
 "nbformat_minor": 5
}
