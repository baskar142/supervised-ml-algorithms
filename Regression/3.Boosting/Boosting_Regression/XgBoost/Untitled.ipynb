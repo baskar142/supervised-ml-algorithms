{
 "cells": [
  {
   "cell_type": "code",
   "execution_count": 1,
   "id": "d16da9d8",
   "metadata": {},
   "outputs": [],
   "source": [
    "\n",
    "\n",
    "#importing numpy libarary, It provides support for large, multi-dimensional arrays and matrices\n",
    "import numpy as np\n",
    "#importing numpy libarary, It provides support for data manipulation and analysis. \n",
    "import pandas as pd\n",
    "# importing matplotlib.pyplot plotting library in Python that provides a MATLAB-like interface for creating visualizations. \n",
    "import matplotlib.pyplot as plt"
   ]
  },
  {
   "cell_type": "code",
   "execution_count": 2,
   "id": "d3bc6417",
   "metadata": {},
   "outputs": [],
   "source": [
    "#Reading the csv file using pandas function and saved in data variable\n",
    "data = pd.read_csv(\"insurance_pre.csv\")"
   ]
  },
  {
   "cell_type": "code",
   "execution_count": 3,
   "id": "c7c19922",
   "metadata": {},
   "outputs": [],
   "source": [
    "data = pd.get_dummies(data, drop_first=True)#1st column is dropped, CA is dropped"
   ]
  },
  {
   "cell_type": "code",
   "execution_count": 4,
   "id": "291ccb25",
   "metadata": {},
   "outputs": [],
   "source": [
    "dependent =data[[\"charges\"]]\n",
    "\n",
    "independent =data[[\"age\",\"bmi\", \"children\", \"sex_male\",\"smoker_yes\"]]"
   ]
  },
  {
   "cell_type": "code",
   "execution_count": 5,
   "id": "d3bf424a",
   "metadata": {},
   "outputs": [],
   "source": [
    "#importing train_test_split from sklearn.model_selection which is used for splitting the data into train and test\n",
    "from sklearn.model_selection import train_test_split\n",
    "#splitting Xtrain,X_test, y_train and y_test usiing train_test_split function. Train and test split ratio is 70% and 30% respectively\n",
    "X_train, X_test, y_train, y_test = train_test_split(independent, dependent, test_size=0.30, random_state=0)"
   ]
  },
  {
   "cell_type": "code",
   "execution_count": 6,
   "id": "e50e2f59",
   "metadata": {},
   "outputs": [],
   "source": [
    "#importing Adaboost model from ensemble\n",
    "import xgboost as xgb\n",
    "\n",
    "regressor = xgb.XGBRegressor(\n",
    "    objective='reg:squarederror',\n",
    "    n_estimators=100,\n",
    "    learning_rate=0.05,\n",
    "    max_depth=4,\n",
    "    min_child_weight=1,\n",
    "    subsample=0.8,\n",
    "    colsample_bytree=0.8,\n",
    "    random_state=42)\n",
    "regressor= regressor.fit(X_train,y_train)"
   ]
  },
  {
   "cell_type": "code",
   "execution_count": 7,
   "id": "e575d451",
   "metadata": {},
   "outputs": [
    {
     "data": {
      "text/plain": [
       "Index(['age', 'bmi', 'children', 'sex_male', 'smoker_yes'], dtype='object')"
      ]
     },
     "execution_count": 7,
     "metadata": {},
     "output_type": "execute_result"
    }
   ],
   "source": [
    "X_train.columns"
   ]
  },
  {
   "cell_type": "code",
   "execution_count": 8,
   "id": "8ad199e0",
   "metadata": {},
   "outputs": [
    {
     "data": {
      "text/plain": [
       "Index(['charges'], dtype='object')"
      ]
     },
     "execution_count": 8,
     "metadata": {},
     "output_type": "execute_result"
    }
   ],
   "source": [
    "y_train.columns"
   ]
  },
  {
   "cell_type": "code",
   "execution_count": 9,
   "id": "126f6fea",
   "metadata": {},
   "outputs": [
    {
     "data": {
      "text/plain": [
       "array([12208.444 , 10618.412 , 44065.883 , 13405.69  ,  9934.641 ,\n",
       "        5784.3325,  2694.7192, 13383.086 ,  7771.7124,  6291.9136,\n",
       "        6392.1606, 13935.651 ,  9885.152 ,  7213.125 , 20416.65  ,\n",
       "       12738.947 , 14056.997 ,  5440.604 ,  7279.5493, 33467.043 ,\n",
       "       25300.012 , 13790.583 , 12000.867 , 26541.582 ,  4000.0352,\n",
       "        6326.3115,  4696.536 ,  7995.2275,  4453.4717, 10431.424 ,\n",
       "        7465.8525, 45817.656 , 15474.05  , 12529.243 , 17217.742 ,\n",
       "        4774.4385, 11518.052 , 36834.145 , 38395.082 ,  3429.319 ,\n",
       "        5459.9263,  5107.9536, 20527.6   , 46288.26  , 36673.6   ,\n",
       "        4871.1743, 12738.947 ,  7003.684 ,  5948.2817, 12506.772 ,\n",
       "        3603.4229,  4079.395 , 25945.674 , 45582.508 , 11653.095 ,\n",
       "        6913.3643,  5790.6055, 11361.593 ,  9644.383 , 16461.951 ,\n",
       "        2831.9775, 43184.22  , 17961.389 , 13928.185 , 12483.46  ,\n",
       "        9979.376 , 33766.723 , 39137.938 ,  3474.7114,  9922.546 ,\n",
       "       14548.995 , 12176.097 , 17092.338 , 14996.9375, 14437.564 ,\n",
       "       15420.379 ,  9099.244 , 10233.522 , 18830.547 , 45775.855 ,\n",
       "       11948.957 , 45051.29  ,  3646.9526,  9808.606 , 41477.7   ,\n",
       "       19111.98  ,  6081.547 ,  4133.8745, 14718.355 , 38592.473 ,\n",
       "        6872.8633, 12085.204 ,  4175.528 , 10330.851 ,  5995.4937,\n",
       "        5437.2505, 42051.957 , 41791.023 ,  6664.0576, 10830.036 ,\n",
       "        4430.9907,  7443.195 ,  7064.1255, 38164.207 , 24457.791 ,\n",
       "        5033.02  , 11394.941 ,  4866.356 , 13226.338 , 43624.543 ,\n",
       "       12475.656 ,  5799.43  , 10850.525 , 33833.96  , 45045.04  ,\n",
       "        7509.5767,  3212.4626, 11361.593 , 16213.525 , 10196.756 ,\n",
       "       41699.59  , 11151.326 , 13365.38  ,  7994.8535, 10641.015 ,\n",
       "        6150.1577, 27485.48  , 24638.857 , 46021.83  ,  3518.1467,\n",
       "       11148.95  ,  4756.4834,  6901.0864, 10228.495 , 36649.066 ,\n",
       "       37473.195 , 22728.188 , 13054.9375, 24452.912 ,  5447.521 ,\n",
       "        3215.772 , 12578.652 , 14198.609 , 11625.495 ,  6089.7393,\n",
       "       14580.799 , 15761.557 ,  5962.4575,  2397.732 , 12060.122 ,\n",
       "        7193.088 , 38749.38  , 10619.036 ,  4706.98  ,  3909.2314,\n",
       "        7896.8286,  4048.8516,  3644.8948, 12738.947 , 10803.44  ,\n",
       "        6961.8154, 13361.959 , 14209.396 ,  9850.094 ,  4309.4316,\n",
       "        8502.022 , 15320.863 ,  6645.5996,  5596.866 ,  2932.8425,\n",
       "        7328.8564,  6491.1475, 10306.839 ,  4426.9736,  6877.8257,\n",
       "        8228.84  ,  6094.7803,  7103.8735, 27661.11  ,  2292.1968,\n",
       "       14691.046 ,  7605.2065, 11291.265 ,  5334.978 ,  6438.535 ,\n",
       "       27886.082 ,  3646.9526,  3485.295 , 14317.735 , 11651.431 ,\n",
       "       41988.145 ,  6818.1113,  6106.3296, 24400.021 ,  5199.2773,\n",
       "        3997.7305,  8091.9624,  8151.68  ,  7664.998 ,  5608.633 ,\n",
       "       12403.479 , 44101.863 , 14255.011 , 19657.17  ,  7183.902 ,\n",
       "       42966.4   ,  5109.2266, 11508.878 ,  8052.606 ,  3653.7202,\n",
       "       10184.403 , 14125.672 ,  7013.2886,  4106.915 ,  7090.1274,\n",
       "        4513.863 ,  6707.318 ,  6560.1284, 15520.118 ,  7484.995 ,\n",
       "        9604.063 ,  7540.761 , 10645.711 ,  4352.514 , 12175.681 ,\n",
       "       14431.143 , 19038.043 , 12287.068 ,  6695.459 ,  3376.9724,\n",
       "        4596.146 ,  8879.6875, 14564.824 ,  7994.264 ,  5880.3735,\n",
       "        8106.209 , 12215.577 , 35061.3   ,  6755.4897, 12981.134 ,\n",
       "        7174.494 , 35956.023 ,  8659.334 ,  9591.75  , 10361.045 ,\n",
       "       11643.478 ,  3354.4788, 10177.23  ,  2970.8843,  7176.1133,\n",
       "       19702.617 , 43634.074 ,  6192.106 ,  5602.386 ,  3123.8042,\n",
       "        2515.128 ,  9390.554 ,  3505.7612,  6550.672 ,  6567.7095,\n",
       "        8983.475 , 26695.996 , 43476.965 , 17719.924 ,  7090.1274,\n",
       "       10830.036 , 40636.203 , 10564.574 , 38375.71  ,  3396.2065,\n",
       "       37060.29  ,  6774.4497, 12329.183 ,  6345.094 , 38901.46  ,\n",
       "        6444.698 , 11139.731 , 10414.704 ,  4267.4463, 16557.55  ,\n",
       "       12738.621 ,  6940.555 , 14568.538 ,  4932.5435,  7965.06  ,\n",
       "        6206.551 ,  8463.233 , 22819.291 ,  5378.789 ,  2036.6466,\n",
       "        2960.0793, 46526.19  , 10423.728 ,  5613.764 , 14271.774 ,\n",
       "       12650.534 , 34800.645 ,  7860.453 ,  6530.9546, 11232.555 ,\n",
       "        3562.8506,  4739.617 , 19329.502 , 17370.344 , 14370.66  ,\n",
       "        3467.7861,  4787.721 , 10541.448 , 11836.506 , 15078.335 ,\n",
       "       20920.348 ,  8248.526 , 15927.897 ,  3662.5718,  8179.7515,\n",
       "        6159.1055, 11078.111 ,  3034.9854,  8698.107 , 45711.707 ,\n",
       "        4802.3945,  5758.7256,  2742.9438, 10465.031 ,  6667.1533,\n",
       "       12329.82  , 43629.246 , 18774.479 ,  9985.26  , 43446.254 ,\n",
       "       13937.766 ,  7298.223 , 10822.643 ,  5904.252 , 28451.754 ,\n",
       "        5529.498 , 13787.067 ,  3095.8804, 15986.83  ,  4453.097 ,\n",
       "       26320.205 ,  8240.652 ,  4459.2354, 39803.24  ,  6450.4097,\n",
       "        5584.158 , 28881.535 ,  3562.8506,  9863.928 ,  3915.5056,\n",
       "       12003.542 ,  4802.6187,  8653.094 ,  6356.8174, 43069.63  ,\n",
       "       11058.003 , 37798.16  , 38001.766 ,  6755.4897, 10058.277 ,\n",
       "        2730.1484,  5557.0825,  5264.864 , 10233.408 , 44738.84  ,\n",
       "       11638.547 ,  2709.2705, 13726.136 ,  3200.03  , 10293.275 ,\n",
       "        6025.083 ,  4578.6284,  5158.8823, 36457.348 ,  7208.9004,\n",
       "        1949.4174, 41142.086 , 12337.204 , 42923.598 , 11693.174 ,\n",
       "        6696.4507,  3722.2078,  2906.124 , 14022.082 ,  6292.8667,\n",
       "        3433.4521, 12535.304 ,  7152.695 ,  6628.4937,  6113.3745,\n",
       "        4738.633 , 40598.9   ,  3171.3994, 11817.847 ,  4513.197 ,\n",
       "        8861.433 , 10876.973 ,  6640.4487, 16045.2705, 11670.676 ,\n",
       "       15843.509 , 15419.386 ], dtype=float32)"
      ]
     },
     "execution_count": 9,
     "metadata": {},
     "output_type": "execute_result"
    }
   ],
   "source": [
    "#machine learning regressor (regressor) to make predictions and saved in y_pred variable\n",
    "y_pred = regressor.predict(X_test)\n",
    "y_pred"
   ]
  },
  {
   "cell_type": "code",
   "execution_count": 10,
   "id": "fb2ada00",
   "metadata": {},
   "outputs": [
    {
     "data": {
      "text/plain": [
       "0.8871568452775149"
      ]
     },
     "execution_count": 10,
     "metadata": {},
     "output_type": "execute_result"
    }
   ],
   "source": [
    "#importing r2_score libarary from sklearn.metrics for model evaulvation\n",
    "from sklearn.metrics import r2_score\n",
    "#checking r2 square value between y_test and y_pred\n",
    "r2_score =r2_score(y_test,y_pred)\n",
    "#printing r2 square value   #  standardising value\n",
    "r2_score"
   ]
  },
  {
   "cell_type": "code",
   "execution_count": 11,
   "id": "04f3f95b",
   "metadata": {},
   "outputs": [],
   "source": [
    "import pickle\n",
    "#model saved in save fomat\n",
    "filename = 'finalizedmodelXgBoost.sav'\n",
    "#pickle.dump() serializes the regressor object and writes it to the specified file (filename) in binary mode ('wb').\n",
    "pickle.dump(regressor, open(filename, 'wb'))"
   ]
  },
  {
   "cell_type": "code",
   "execution_count": 12,
   "id": "60aac782",
   "metadata": {},
   "outputs": [
    {
     "ename": "ValueError",
     "evalue": "training data did not have the following fields: age, bmi, children, sex_male, smoker_yes",
     "output_type": "error",
     "traceback": [
      "\u001b[1;31m---------------------------------------------------------------------------\u001b[0m",
      "\u001b[1;31mValueError\u001b[0m                                Traceback (most recent call last)",
      "\u001b[1;32m~\\AppData\\Local\\Temp\\ipykernel_22872\\2750650364.py\u001b[0m in \u001b[0;36m<module>\u001b[1;34m\u001b[0m\n\u001b[0;32m      2\u001b[0m \u001b[0mloaded_model\u001b[0m \u001b[1;33m=\u001b[0m \u001b[0mpickle\u001b[0m\u001b[1;33m.\u001b[0m\u001b[0mload\u001b[0m\u001b[1;33m(\u001b[0m\u001b[0mopen\u001b[0m\u001b[1;33m(\u001b[0m\u001b[1;34m'finalizedmodelXgBoost.sav'\u001b[0m\u001b[1;33m,\u001b[0m\u001b[1;34m'rb'\u001b[0m\u001b[1;33m)\u001b[0m\u001b[1;33m)\u001b[0m\u001b[1;33m\u001b[0m\u001b[1;33m\u001b[0m\u001b[0m\n\u001b[0;32m      3\u001b[0m \u001b[1;31m#using predict keyeword, predicting 15 years of experience of emplyee and predicted value store in result variable\u001b[0m\u001b[1;33m\u001b[0m\u001b[1;33m\u001b[0m\u001b[0m\n\u001b[1;32m----> 4\u001b[1;33m \u001b[0mresult\u001b[0m \u001b[1;33m=\u001b[0m \u001b[0mloaded_model\u001b[0m\u001b[1;33m.\u001b[0m\u001b[0mpredict\u001b[0m\u001b[1;33m(\u001b[0m\u001b[1;33m[\u001b[0m\u001b[1;33m[\u001b[0m\u001b[1;36m11\u001b[0m\u001b[1;33m,\u001b[0m\u001b[1;36m33\u001b[0m\u001b[1;33m,\u001b[0m\u001b[1;36m1\u001b[0m\u001b[1;33m,\u001b[0m\u001b[1;36m1\u001b[0m\u001b[1;33m,\u001b[0m\u001b[1;36m0\u001b[0m\u001b[1;33m]\u001b[0m\u001b[1;33m]\u001b[0m\u001b[1;33m)\u001b[0m\u001b[1;33m\u001b[0m\u001b[1;33m\u001b[0m\u001b[0m\n\u001b[0m\u001b[0;32m      5\u001b[0m \u001b[1;31m#pring the result\u001b[0m\u001b[1;33m\u001b[0m\u001b[1;33m\u001b[0m\u001b[0m\n\u001b[0;32m      6\u001b[0m \u001b[0mprint\u001b[0m\u001b[1;33m(\u001b[0m\u001b[0mresult\u001b[0m\u001b[1;33m)\u001b[0m\u001b[1;33m\u001b[0m\u001b[1;33m\u001b[0m\u001b[0m\n",
      "\u001b[1;32m~\\anaconda3\\lib\\site-packages\\xgboost\\sklearn.py\u001b[0m in \u001b[0;36mpredict\u001b[1;34m(self, X, output_margin, ntree_limit, validate_features, base_margin, iteration_range)\u001b[0m\n\u001b[0;32m   1137\u001b[0m                 \u001b[0menable_categorical\u001b[0m\u001b[1;33m=\u001b[0m\u001b[0mself\u001b[0m\u001b[1;33m.\u001b[0m\u001b[0menable_categorical\u001b[0m\u001b[1;33m,\u001b[0m\u001b[1;33m\u001b[0m\u001b[1;33m\u001b[0m\u001b[0m\n\u001b[0;32m   1138\u001b[0m             )\n\u001b[1;32m-> 1139\u001b[1;33m             return self.get_booster().predict(\n\u001b[0m\u001b[0;32m   1140\u001b[0m                 \u001b[0mdata\u001b[0m\u001b[1;33m=\u001b[0m\u001b[0mtest\u001b[0m\u001b[1;33m,\u001b[0m\u001b[1;33m\u001b[0m\u001b[1;33m\u001b[0m\u001b[0m\n\u001b[0;32m   1141\u001b[0m                 \u001b[0miteration_range\u001b[0m\u001b[1;33m=\u001b[0m\u001b[0miteration_range\u001b[0m\u001b[1;33m,\u001b[0m\u001b[1;33m\u001b[0m\u001b[1;33m\u001b[0m\u001b[0m\n",
      "\u001b[1;32m~\\anaconda3\\lib\\site-packages\\xgboost\\core.py\u001b[0m in \u001b[0;36mpredict\u001b[1;34m(self, data, output_margin, ntree_limit, pred_leaf, pred_contribs, approx_contribs, pred_interactions, validate_features, training, iteration_range, strict_shape)\u001b[0m\n\u001b[0;32m   2135\u001b[0m             \u001b[1;32mraise\u001b[0m \u001b[0mTypeError\u001b[0m\u001b[1;33m(\u001b[0m\u001b[1;34m'Expecting data to be a DMatrix object, got: '\u001b[0m\u001b[1;33m,\u001b[0m \u001b[0mtype\u001b[0m\u001b[1;33m(\u001b[0m\u001b[0mdata\u001b[0m\u001b[1;33m)\u001b[0m\u001b[1;33m)\u001b[0m\u001b[1;33m\u001b[0m\u001b[1;33m\u001b[0m\u001b[0m\n\u001b[0;32m   2136\u001b[0m         \u001b[1;32mif\u001b[0m \u001b[0mvalidate_features\u001b[0m\u001b[1;33m:\u001b[0m\u001b[1;33m\u001b[0m\u001b[1;33m\u001b[0m\u001b[0m\n\u001b[1;32m-> 2137\u001b[1;33m             \u001b[0mself\u001b[0m\u001b[1;33m.\u001b[0m\u001b[0m_validate_dmatrix_features\u001b[0m\u001b[1;33m(\u001b[0m\u001b[0mdata\u001b[0m\u001b[1;33m)\u001b[0m\u001b[1;33m\u001b[0m\u001b[1;33m\u001b[0m\u001b[0m\n\u001b[0m\u001b[0;32m   2138\u001b[0m         \u001b[0miteration_range\u001b[0m \u001b[1;33m=\u001b[0m \u001b[0m_convert_ntree_limit\u001b[0m\u001b[1;33m(\u001b[0m\u001b[0mself\u001b[0m\u001b[1;33m,\u001b[0m \u001b[0mntree_limit\u001b[0m\u001b[1;33m,\u001b[0m \u001b[0miteration_range\u001b[0m\u001b[1;33m)\u001b[0m\u001b[1;33m\u001b[0m\u001b[1;33m\u001b[0m\u001b[0m\n\u001b[0;32m   2139\u001b[0m         args = {\n",
      "\u001b[1;32m~\\anaconda3\\lib\\site-packages\\xgboost\\core.py\u001b[0m in \u001b[0;36m_validate_dmatrix_features\u001b[1;34m(self, data)\u001b[0m\n\u001b[0;32m   2745\u001b[0m             \u001b[0mself\u001b[0m\u001b[1;33m.\u001b[0m\u001b[0mfeature_types\u001b[0m \u001b[1;33m=\u001b[0m \u001b[0mft\u001b[0m\u001b[1;33m\u001b[0m\u001b[1;33m\u001b[0m\u001b[0m\n\u001b[0;32m   2746\u001b[0m \u001b[1;33m\u001b[0m\u001b[0m\n\u001b[1;32m-> 2747\u001b[1;33m         \u001b[0mself\u001b[0m\u001b[1;33m.\u001b[0m\u001b[0m_validate_features\u001b[0m\u001b[1;33m(\u001b[0m\u001b[0mfn\u001b[0m\u001b[1;33m)\u001b[0m\u001b[1;33m\u001b[0m\u001b[1;33m\u001b[0m\u001b[0m\n\u001b[0m\u001b[0;32m   2748\u001b[0m \u001b[1;33m\u001b[0m\u001b[0m\n\u001b[0;32m   2749\u001b[0m     \u001b[1;32mdef\u001b[0m \u001b[0m_validate_features\u001b[0m\u001b[1;33m(\u001b[0m\u001b[0mself\u001b[0m\u001b[1;33m,\u001b[0m \u001b[0mfeature_names\u001b[0m\u001b[1;33m:\u001b[0m \u001b[0mOptional\u001b[0m\u001b[1;33m[\u001b[0m\u001b[0mFeatureNames\u001b[0m\u001b[1;33m]\u001b[0m\u001b[1;33m)\u001b[0m \u001b[1;33m->\u001b[0m \u001b[1;32mNone\u001b[0m\u001b[1;33m:\u001b[0m\u001b[1;33m\u001b[0m\u001b[1;33m\u001b[0m\u001b[0m\n",
      "\u001b[1;32m~\\anaconda3\\lib\\site-packages\\xgboost\\core.py\u001b[0m in \u001b[0;36m_validate_features\u001b[1;34m(self, feature_names)\u001b[0m\n\u001b[0;32m   2752\u001b[0m \u001b[1;33m\u001b[0m\u001b[0m\n\u001b[0;32m   2753\u001b[0m         \u001b[1;32mif\u001b[0m \u001b[0mfeature_names\u001b[0m \u001b[1;32mis\u001b[0m \u001b[1;32mNone\u001b[0m \u001b[1;32mand\u001b[0m \u001b[0mself\u001b[0m\u001b[1;33m.\u001b[0m\u001b[0mfeature_names\u001b[0m \u001b[1;32mis\u001b[0m \u001b[1;32mnot\u001b[0m \u001b[1;32mNone\u001b[0m\u001b[1;33m:\u001b[0m\u001b[1;33m\u001b[0m\u001b[1;33m\u001b[0m\u001b[0m\n\u001b[1;32m-> 2754\u001b[1;33m             raise ValueError(\n\u001b[0m\u001b[0;32m   2755\u001b[0m                 \u001b[1;34m\"training data did not have the following fields: \"\u001b[0m\u001b[1;33m\u001b[0m\u001b[1;33m\u001b[0m\u001b[0m\n\u001b[0;32m   2756\u001b[0m                 \u001b[1;33m+\u001b[0m \u001b[1;34m\", \"\u001b[0m\u001b[1;33m.\u001b[0m\u001b[0mjoin\u001b[0m\u001b[1;33m(\u001b[0m\u001b[0mself\u001b[0m\u001b[1;33m.\u001b[0m\u001b[0mfeature_names\u001b[0m\u001b[1;33m)\u001b[0m\u001b[1;33m\u001b[0m\u001b[1;33m\u001b[0m\u001b[0m\n",
      "\u001b[1;31mValueError\u001b[0m: training data did not have the following fields: age, bmi, children, sex_male, smoker_yes"
     ]
    }
   ],
   "source": [
    "# the mode 'rb' used in file operations stands for \"read binary\" and saved in laoded model\n",
    "loaded_model = pickle.load(open('finalizedmodelXgBoost.sav','rb'))\n",
    "#using predict keyeword, predicting 15 years of experience of emplyee and predicted value store in result variable\n",
    "result = loaded_model.predict([[11,33,1,1,0]])\n",
    "#pring the result\n",
    "print(result)"
   ]
  },
  {
   "cell_type": "code",
   "execution_count": null,
   "id": "d7327fd2",
   "metadata": {},
   "outputs": [],
   "source": []
  }
 ],
 "metadata": {
  "kernelspec": {
   "display_name": "Python 3 (ipykernel)",
   "language": "python",
   "name": "python3"
  },
  "language_info": {
   "codemirror_mode": {
    "name": "ipython",
    "version": 3
   },
   "file_extension": ".py",
   "mimetype": "text/x-python",
   "name": "python",
   "nbconvert_exporter": "python",
   "pygments_lexer": "ipython3",
   "version": "3.9.13"
  }
 },
 "nbformat": 4,
 "nbformat_minor": 5
}
