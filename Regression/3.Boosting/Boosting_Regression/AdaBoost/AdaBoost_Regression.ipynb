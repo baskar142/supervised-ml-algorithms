{
 "cells": [
  {
   "cell_type": "code",
   "execution_count": 1,
   "id": "dd6c8e25",
   "metadata": {},
   "outputs": [],
   "source": [
    "\n",
    "\n",
    "#importing numpy libarary, It provides support for large, multi-dimensional arrays and matrices\n",
    "import numpy as np\n",
    "#importing numpy libarary, It provides support for data manipulation and analysis. \n",
    "import pandas as pd\n",
    "# importing matplotlib.pyplot plotting library in Python that provides a MATLAB-like interface for creating visualizations. \n",
    "import matplotlib.pyplot as plt"
   ]
  },
  {
   "cell_type": "code",
   "execution_count": 2,
   "id": "0c924a50",
   "metadata": {},
   "outputs": [],
   "source": [
    "#Reading the csv file using pandas function and saved in data variable\n",
    "data = pd.read_csv(\"insurance_pre.csv\")"
   ]
  },
  {
   "cell_type": "code",
   "execution_count": 3,
   "id": "167c304c",
   "metadata": {},
   "outputs": [
    {
     "data": {
      "text/html": [
       "<div>\n",
       "<style scoped>\n",
       "    .dataframe tbody tr th:only-of-type {\n",
       "        vertical-align: middle;\n",
       "    }\n",
       "\n",
       "    .dataframe tbody tr th {\n",
       "        vertical-align: top;\n",
       "    }\n",
       "\n",
       "    .dataframe thead th {\n",
       "        text-align: right;\n",
       "    }\n",
       "</style>\n",
       "<table border=\"1\" class=\"dataframe\">\n",
       "  <thead>\n",
       "    <tr style=\"text-align: right;\">\n",
       "      <th></th>\n",
       "      <th>age</th>\n",
       "      <th>sex</th>\n",
       "      <th>bmi</th>\n",
       "      <th>children</th>\n",
       "      <th>smoker</th>\n",
       "      <th>charges</th>\n",
       "    </tr>\n",
       "  </thead>\n",
       "  <tbody>\n",
       "    <tr>\n",
       "      <th>0</th>\n",
       "      <td>19</td>\n",
       "      <td>female</td>\n",
       "      <td>27.900</td>\n",
       "      <td>0</td>\n",
       "      <td>yes</td>\n",
       "      <td>16884.92400</td>\n",
       "    </tr>\n",
       "    <tr>\n",
       "      <th>1</th>\n",
       "      <td>18</td>\n",
       "      <td>male</td>\n",
       "      <td>33.770</td>\n",
       "      <td>1</td>\n",
       "      <td>no</td>\n",
       "      <td>1725.55230</td>\n",
       "    </tr>\n",
       "    <tr>\n",
       "      <th>2</th>\n",
       "      <td>28</td>\n",
       "      <td>male</td>\n",
       "      <td>33.000</td>\n",
       "      <td>3</td>\n",
       "      <td>no</td>\n",
       "      <td>4449.46200</td>\n",
       "    </tr>\n",
       "    <tr>\n",
       "      <th>3</th>\n",
       "      <td>33</td>\n",
       "      <td>male</td>\n",
       "      <td>22.705</td>\n",
       "      <td>0</td>\n",
       "      <td>no</td>\n",
       "      <td>21984.47061</td>\n",
       "    </tr>\n",
       "    <tr>\n",
       "      <th>4</th>\n",
       "      <td>32</td>\n",
       "      <td>male</td>\n",
       "      <td>28.880</td>\n",
       "      <td>0</td>\n",
       "      <td>no</td>\n",
       "      <td>3866.85520</td>\n",
       "    </tr>\n",
       "    <tr>\n",
       "      <th>5</th>\n",
       "      <td>31</td>\n",
       "      <td>female</td>\n",
       "      <td>25.740</td>\n",
       "      <td>0</td>\n",
       "      <td>no</td>\n",
       "      <td>3756.62160</td>\n",
       "    </tr>\n",
       "  </tbody>\n",
       "</table>\n",
       "</div>"
      ],
      "text/plain": [
       "   age     sex     bmi  children smoker      charges\n",
       "0   19  female  27.900         0    yes  16884.92400\n",
       "1   18    male  33.770         1     no   1725.55230\n",
       "2   28    male  33.000         3     no   4449.46200\n",
       "3   33    male  22.705         0     no  21984.47061\n",
       "4   32    male  28.880         0     no   3866.85520\n",
       "5   31  female  25.740         0     no   3756.62160"
      ]
     },
     "execution_count": 3,
     "metadata": {},
     "output_type": "execute_result"
    }
   ],
   "source": [
    "data.head(6)"
   ]
  },
  {
   "cell_type": "code",
   "execution_count": 4,
   "id": "372f942e",
   "metadata": {},
   "outputs": [],
   "source": [
    "data = pd.get_dummies(data, drop_first=True)#1st column is dropped, CA is dropped"
   ]
  },
  {
   "cell_type": "code",
   "execution_count": 5,
   "id": "f721e2fc",
   "metadata": {},
   "outputs": [
    {
     "data": {
      "text/plain": [
       "Index(['age', 'bmi', 'children', 'charges', 'sex_male', 'smoker_yes'], dtype='object')"
      ]
     },
     "execution_count": 5,
     "metadata": {},
     "output_type": "execute_result"
    }
   ],
   "source": [
    "data.columns"
   ]
  },
  {
   "cell_type": "code",
   "execution_count": 6,
   "id": "269231f6",
   "metadata": {},
   "outputs": [],
   "source": [
    "data = pd.get_dummies(data, drop_first=True)#1st column is dropped, CA is dropped"
   ]
  },
  {
   "cell_type": "code",
   "execution_count": 7,
   "id": "1ba93a61",
   "metadata": {},
   "outputs": [],
   "source": [
    "dependent =data[[\"charges\"]]\n",
    "\n",
    "independent =data[[\"age\",\"bmi\", \"children\", \"sex_male\",\"smoker_yes\"]]"
   ]
  },
  {
   "cell_type": "code",
   "execution_count": 9,
   "id": "31f84c9d",
   "metadata": {},
   "outputs": [],
   "source": [
    "#importing train_test_split from sklearn.model_selection which is used for splitting the data into train and test\n",
    "from sklearn.model_selection import train_test_split\n",
    "#splitting Xtrain,X_test, y_train and y_test usiing train_test_split function. Train and test split ratio is 70% and 30% respectively\n",
    "X_train, X_test, y_train, y_test = train_test_split(independent, dependent, test_size=0.30, random_state=0)"
   ]
  },
  {
   "cell_type": "code",
   "execution_count": null,
   "id": "44b458f5",
   "metadata": {},
   "outputs": [],
   "source": []
  },
  {
   "cell_type": "code",
   "execution_count": 10,
   "id": "0b12a27a",
   "metadata": {},
   "outputs": [
    {
     "data": {
      "text/plain": [
       "(4680, 2010, 936, 402)"
      ]
     },
     "execution_count": 10,
     "metadata": {},
     "output_type": "execute_result"
    }
   ],
   "source": [
    "X_train.size, X_test.size, y_train.size, y_test.size"
   ]
  },
  {
   "cell_type": "code",
   "execution_count": 11,
   "id": "468aa4d8",
   "metadata": {},
   "outputs": [
    {
     "name": "stderr",
     "output_type": "stream",
     "text": [
      "C:\\Users\\AB92922\\anaconda3\\lib\\site-packages\\sklearn\\utils\\validation.py:993: DataConversionWarning: A column-vector y was passed when a 1d array was expected. Please change the shape of y to (n_samples, ), for example using ravel().\n",
      "  y = column_or_1d(y, warn=True)\n"
     ]
    }
   ],
   "source": [
    "#importing LinearRegression model from sklearn.linear_mode libary which is useful performing simple liner regression\n",
    "from sklearn.ensemble import AdaBoostRegressor\n",
    "from sklearn.tree import DecisionTreeRegressor\n",
    "regressor = AdaBoostRegressor(base_estimator=DecisionTreeRegressor(max_depth=4),\n",
    "                                       n_estimators=50,\n",
    "                                       learning_rate=0.001,\n",
    "                                       loss='exponential',\n",
    "                                       random_state=123)\n",
    "regressor= regressor.fit(X_train,y_train)"
   ]
  },
  {
   "cell_type": "code",
   "execution_count": 12,
   "id": "3a7c7f45",
   "metadata": {},
   "outputs": [
    {
     "data": {
      "text/plain": [
       "AdaBoostRegressor(base_estimator=DecisionTreeRegressor(max_depth=4),\n",
       "                  learning_rate=0.001, loss='exponential', random_state=123)"
      ]
     },
     "execution_count": 12,
     "metadata": {},
     "output_type": "execute_result"
    }
   ],
   "source": [
    "regressor"
   ]
  },
  {
   "cell_type": "code",
   "execution_count": 13,
   "id": "42c2e09a",
   "metadata": {},
   "outputs": [
    {
     "data": {
      "text/plain": [
       "array([12424.40007482, 10734.58062742, 45201.19439974, 14362.4623731 ,\n",
       "       12043.31513013,  6587.41771104,  2830.63048649, 12067.4487622 ,\n",
       "        7279.25656647,  6505.41413711,  6955.23190104, 12275.41398435,\n",
       "        8204.29401778,  6483.94034609, 18289.71158459, 12133.58564503,\n",
       "       14278.18786164,  5101.43190466,  7240.85799509, 35792.31479421,\n",
       "       23892.34389943, 13022.04132704, 12375.72242607, 27400.02580937,\n",
       "        3050.43291552,  6351.33963607,  5964.77976985,  7382.12694194,\n",
       "        5983.38636482,  9849.41006657,  7298.36601768, 46127.19805158,\n",
       "       14362.4623731 , 12438.1586577 , 17495.26655214,  5983.38636482,\n",
       "       10125.33783232, 36428.86364159, 40914.13699615,  3050.43291552,\n",
       "        6631.14665868,  5983.38636482, 19751.17057619, 46186.39985775,\n",
       "       36428.86364159,  3885.7877897 , 12133.58564503,  7240.85799509,\n",
       "        6283.92664758, 12607.76692032,  3574.37272078,  3751.15979179,\n",
       "       26889.38593273, 45948.75443438, 12482.20010247,  5964.77976985,\n",
       "        4663.69422645, 11980.43075278,  9552.62662824, 15507.40230463,\n",
       "        2890.27951643, 45178.12422478, 16078.74204868, 12043.31513013,\n",
       "       10528.2053643 , 11344.32059414, 35792.31479421, 39966.78957533,\n",
       "        3474.99304385,  7665.86089748, 14362.4623731 , 12497.10463052,\n",
       "       17559.27529   , 14362.4623731 , 14278.18786164, 14278.18786164,\n",
       "       10238.86918083,  8688.30956968, 18901.41524291, 45599.883445  ,\n",
       "       12482.20010247, 43934.23913537,  3060.71154508,  9896.06420875,\n",
       "       42301.36636   , 18699.7115622 ,  5147.98018143,  4117.30893281,\n",
       "       15213.75469579, 39188.06534071,  6611.8882582 , 12438.1586577 ,\n",
       "        4117.30893281, 10167.51367802,  6714.03456279,  6241.56071727,\n",
       "       45026.48782143, 43352.07945174,  6534.57006575, 12438.1586577 ,\n",
       "        3576.04569132,  7041.00976301,  6505.41413711, 40835.80824955,\n",
       "       25954.01157455,  5562.77120338, 12482.20010247,  5964.77976985,\n",
       "       12438.1586577 , 45026.48782143, 13026.69427023,  6534.57006575,\n",
       "       10860.85974106, 35792.31479421, 46127.19805158,  7298.36601768,\n",
       "        3349.00170084, 11980.43075278, 15213.75469579, 10440.82435449,\n",
       "       43057.20614315, 12424.40007482, 14418.93573483,  6611.8882582 ,\n",
       "        8688.30956968,  6505.41413711, 25451.65601552, 23704.04477591,\n",
       "       46127.19805158,  3075.92009443,  8688.30956968,  3474.99304385,\n",
       "        7152.97729589, 11980.43075278, 40649.7775115 , 40649.7775115 ,\n",
       "       23106.62341741, 12288.1706498 , 23704.04477591,  4406.29220746,\n",
       "        3060.71154508, 12438.1586577 , 10528.2053643 , 12428.65477862,\n",
       "        6775.70839103, 14418.93573483, 15213.75469579,  4690.074656  ,\n",
       "        2830.63048649, 12497.10463052,  7095.70379837, 39188.06534071,\n",
       "       11461.31117407,  3574.37272078,  3810.55386847,  7279.25656647,\n",
       "        3653.24241173,  3455.85234932, 12133.58564503, 10440.82435449,\n",
       "        6138.35768953, 14362.4623731 , 14278.18786164, 11299.76844708,\n",
       "        5983.38636482,  5769.07955762, 17474.3356473 ,  6505.41413711,\n",
       "        6241.56071727,  3071.16044034,  6106.04558047,  6499.02077451,\n",
       "        8222.07212301,  4089.38116472,  6138.35768953,  5769.07955762,\n",
       "        6505.41413711,  7252.87315115, 27628.64491421,  2830.63048649,\n",
       "       12858.6870858 ,  7279.25656647, 12438.1586577 ,  5562.77120338,\n",
       "        6955.23190104, 27400.11077238,  3060.71154508,  3349.00170084,\n",
       "       14418.93573483, 10578.99928895, 43666.87921288,  5210.66818077,\n",
       "        6788.47192447, 24036.09732706,  4089.38116472,  3798.12851233,\n",
       "        7279.25656647,  7095.70379837,  6611.8882582 ,  6241.56071727,\n",
       "       12497.10463052, 45026.48782143, 13022.04132704, 18468.42297918,\n",
       "        6505.41413711, 45002.96582579,  5147.98018143, 12341.10603224,\n",
       "        7240.85799509,  3071.16044034, 10575.56829739, 14362.4623731 ,\n",
       "        6499.02077451,  3574.37272078,  7240.85799509,  3798.12851233,\n",
       "        6833.84753259,  6729.73555762, 16067.68444606,  7279.25656647,\n",
       "        7240.85799509,  7332.73608708, 10860.85974106,  3798.12851233,\n",
       "       12482.20010247, 14418.93573483, 13022.04132704, 12497.10463052,\n",
       "        7279.25656647,  3798.12851233,  3050.43291552, 10156.40235261,\n",
       "       14044.14978476,  4117.30893281,  6241.56071727,  7365.7577104 ,\n",
       "       10860.85974106, 35792.31479421,  7095.70379837, 12927.25576637,\n",
       "        6729.73555762, 36068.03309265,  7506.98137928,  8130.86281815,\n",
       "        8222.07212301, 12424.40007482,  3474.99304385,  8467.84871544,\n",
       "        2835.14912398,  7252.87315115, 18631.18422397, 45178.12422478,\n",
       "        5210.66818077,  5098.14333036,  2890.27951643,  2830.63048649,\n",
       "        9849.41006657,  3071.16044034,  5769.07955762,  5964.77976985,\n",
       "        9849.41006657, 25657.7619625 , 45026.48782143, 16067.68444606,\n",
       "        7240.85799509, 12438.1586577 , 40284.1986    , 10335.55013185,\n",
       "       40733.69448848,  2975.16708688, 36428.86364159,  6611.8882582 ,\n",
       "       12562.36576659,  5147.98018143, 41546.54142421,  6815.29028719,\n",
       "       12341.10603224, 10220.86921631,  3653.24241173, 15439.72850026,\n",
       "       12482.20010247,  6714.03456279, 14278.18786164,  3050.43291552,\n",
       "        7298.36601768,  4693.36457119,  7798.99993258, 23137.35511667,\n",
       "        5147.98018143,  2830.63048649,  3349.00170084, 45599.883445  ,\n",
       "       10950.17061523,  6283.92664758, 13022.04132704, 12562.36576659,\n",
       "       35792.31479421,  7240.85799509,  6815.29028719, 11425.35925428,\n",
       "        3050.43291552,  3885.7877897 , 17495.26655214, 17723.36334943,\n",
       "       14362.4623731 ,  3798.12851233,  4690.074656  , 10156.40235261,\n",
       "       12341.10603224, 17331.21464931, 19508.20571429,  7095.70379837,\n",
       "       17495.26655214,  3050.43291552,  7365.7577104 ,  6714.03456279,\n",
       "       10734.58062742,  3349.00170084,  8130.86281815, 45002.96582579,\n",
       "        3885.7877897 ,  5964.77976985,  2830.63048649, 10575.56829739,\n",
       "        5983.38636482, 12497.10463052, 45026.48782143, 18423.6369525 ,\n",
       "       10664.22064746, 43934.23913537, 13022.04132704,  6505.41413711,\n",
       "       11461.31117407,  4898.94958927, 27713.244265  ,  6241.56071727,\n",
       "       14362.4623731 ,  3319.72335157, 17559.27529   ,  4089.38116472,\n",
       "       23892.34389943,  7252.87315115,  3798.12851233, 39419.69598   ,\n",
       "        6505.41413711,  6587.41771104, 27990.030975  ,  3050.43291552,\n",
       "        8204.29401778,  3474.99304385, 10664.22064746,  5101.43190466,\n",
       "        7240.85799509,  6505.41413711, 45201.19439974, 10732.84504124,\n",
       "       40649.7775115 , 36586.66520645,  7095.70379837,  7665.86089748,\n",
       "        2890.27951643,  5562.77120338,  3798.12851233, 10575.56829739,\n",
       "       45278.67464521, 12482.20010247,  2830.63048649, 14044.14978476,\n",
       "        3075.92009443,  9849.41006657,  6241.56071727,  3751.15979179,\n",
       "        5101.43190466, 36428.86364159,  7279.25656647,  2830.63048649,\n",
       "       41877.22190611, 12497.10463052, 44159.38648462, 12482.20010247,\n",
       "        6351.33963607,  3474.99304385,  2959.29677149, 12067.4487622 ,\n",
       "        6788.47192447,  3050.43291552, 12428.65477862,  7240.85799509,\n",
       "        6805.44331825,  5210.66818077,  3576.04569132, 39861.48740615,\n",
       "        3060.71154508, 12043.31513013,  3071.16044034,  7498.26104384,\n",
       "       12438.1586577 ,  6241.56071727, 17559.27529   , 12438.1586577 ,\n",
       "       15769.45800541, 14362.4623731 ])"
      ]
     },
     "execution_count": 13,
     "metadata": {},
     "output_type": "execute_result"
    }
   ],
   "source": [
    "#machine learning regressor (regressor) to make predictions and saved in y_pred variable\n",
    "y_pred = regressor.predict(X_test)\n",
    "y_pred"
   ]
  },
  {
   "cell_type": "code",
   "execution_count": 14,
   "id": "b14db7e7",
   "metadata": {},
   "outputs": [
    {
     "data": {
      "text/plain": [
       "0.8896429943097234"
      ]
     },
     "execution_count": 14,
     "metadata": {},
     "output_type": "execute_result"
    }
   ],
   "source": [
    "#importing r2_score libarary from sklearn.metrics for model evaulvation\n",
    "from sklearn.metrics import r2_score\n",
    "#checking r2 square value between y_test and y_pred\n",
    "r2_score =r2_score(y_test,y_pred)\n",
    "#printing r2 square value   #  standardising value\n",
    "r2_score"
   ]
  },
  {
   "cell_type": "code",
   "execution_count": null,
   "id": "82151420",
   "metadata": {},
   "outputs": [],
   "source": []
  },
  {
   "cell_type": "code",
   "execution_count": 15,
   "id": "d964a6d9",
   "metadata": {},
   "outputs": [],
   "source": [
    "import pickle\n",
    "#model saved in save fomat\n",
    "filename = 'finalizedmodelAdaBoost.sav'\n",
    "#pickle.dump() serializes the regressor object and writes it to the specified file (filename) in binary mode ('wb').\n",
    "pickle.dump(regressor, open(filename, 'wb'))"
   ]
  },
  {
   "cell_type": "code",
   "execution_count": 16,
   "id": "b04dcd8a",
   "metadata": {},
   "outputs": [
    {
     "name": "stdout",
     "output_type": "stream",
     "text": [
      "[3574.37272078]\n"
     ]
    },
    {
     "name": "stderr",
     "output_type": "stream",
     "text": [
      "C:\\Users\\AB92922\\anaconda3\\lib\\site-packages\\sklearn\\base.py:450: UserWarning: X does not have valid feature names, but AdaBoostRegressor was fitted with feature names\n",
      "  warnings.warn(\n"
     ]
    }
   ],
   "source": [
    "# the mode 'rb' used in file operations stands for \"read binary\" and saved in laoded model\n",
    "loaded_model = pickle.load(open('finalizedmodelAdaBoost.sav','rb'))\n",
    "#using predict keyeword, predicting 15 years of experience of emplyee and predicted value store in result variable\n",
    "result = loaded_model.predict([[12,33,1,1,0]])\n",
    "#pring the result\n",
    "print(result)"
   ]
  },
  {
   "cell_type": "code",
   "execution_count": null,
   "id": "c17ea3ae",
   "metadata": {},
   "outputs": [],
   "source": []
  }
 ],
 "metadata": {
  "kernelspec": {
   "display_name": "Python 3 (ipykernel)",
   "language": "python",
   "name": "python3"
  },
  "language_info": {
   "codemirror_mode": {
    "name": "ipython",
    "version": 3
   },
   "file_extension": ".py",
   "mimetype": "text/x-python",
   "name": "python",
   "nbconvert_exporter": "python",
   "pygments_lexer": "ipython3",
   "version": "3.9.13"
  }
 },
 "nbformat": 4,
 "nbformat_minor": 5
}
