{
 "cells": [
  {
   "cell_type": "code",
   "execution_count": 1,
   "id": "6933bf65",
   "metadata": {},
   "outputs": [],
   "source": [
    "\n",
    "\n",
    "#importing numpy libarary, It provides support for large, multi-dimensional arrays and matrices\n",
    "import numpy as np\n",
    "#importing numpy libarary, It provides support for data manipulation and analysis. \n",
    "import pandas as pd\n",
    "# importing matplotlib.pyplot plotting library in Python that provides a MATLAB-like interface for creating visualizations. \n",
    "import matplotlib.pyplot as plt"
   ]
  },
  {
   "cell_type": "code",
   "execution_count": 2,
   "id": "8421d302",
   "metadata": {},
   "outputs": [],
   "source": [
    "#Reading the csv file using pandas function and saved in data variable\n",
    "data = pd.read_csv(\"insurance_pre.csv\")"
   ]
  },
  {
   "cell_type": "code",
   "execution_count": 3,
   "id": "681a2af2",
   "metadata": {},
   "outputs": [
    {
     "data": {
      "text/html": [
       "<div>\n",
       "<style scoped>\n",
       "    .dataframe tbody tr th:only-of-type {\n",
       "        vertical-align: middle;\n",
       "    }\n",
       "\n",
       "    .dataframe tbody tr th {\n",
       "        vertical-align: top;\n",
       "    }\n",
       "\n",
       "    .dataframe thead th {\n",
       "        text-align: right;\n",
       "    }\n",
       "</style>\n",
       "<table border=\"1\" class=\"dataframe\">\n",
       "  <thead>\n",
       "    <tr style=\"text-align: right;\">\n",
       "      <th></th>\n",
       "      <th>age</th>\n",
       "      <th>bmi</th>\n",
       "      <th>children</th>\n",
       "      <th>charges</th>\n",
       "      <th>sex_male</th>\n",
       "      <th>smoker_yes</th>\n",
       "    </tr>\n",
       "  </thead>\n",
       "  <tbody>\n",
       "    <tr>\n",
       "      <th>0</th>\n",
       "      <td>19</td>\n",
       "      <td>27.900</td>\n",
       "      <td>0</td>\n",
       "      <td>16884.92400</td>\n",
       "      <td>0</td>\n",
       "      <td>1</td>\n",
       "    </tr>\n",
       "    <tr>\n",
       "      <th>1</th>\n",
       "      <td>18</td>\n",
       "      <td>33.770</td>\n",
       "      <td>1</td>\n",
       "      <td>1725.55230</td>\n",
       "      <td>1</td>\n",
       "      <td>0</td>\n",
       "    </tr>\n",
       "    <tr>\n",
       "      <th>2</th>\n",
       "      <td>28</td>\n",
       "      <td>33.000</td>\n",
       "      <td>3</td>\n",
       "      <td>4449.46200</td>\n",
       "      <td>1</td>\n",
       "      <td>0</td>\n",
       "    </tr>\n",
       "    <tr>\n",
       "      <th>3</th>\n",
       "      <td>33</td>\n",
       "      <td>22.705</td>\n",
       "      <td>0</td>\n",
       "      <td>21984.47061</td>\n",
       "      <td>1</td>\n",
       "      <td>0</td>\n",
       "    </tr>\n",
       "    <tr>\n",
       "      <th>4</th>\n",
       "      <td>32</td>\n",
       "      <td>28.880</td>\n",
       "      <td>0</td>\n",
       "      <td>3866.85520</td>\n",
       "      <td>1</td>\n",
       "      <td>0</td>\n",
       "    </tr>\n",
       "  </tbody>\n",
       "</table>\n",
       "</div>"
      ],
      "text/plain": [
       "   age     bmi  children      charges  sex_male  smoker_yes\n",
       "0   19  27.900         0  16884.92400         0           1\n",
       "1   18  33.770         1   1725.55230         1           0\n",
       "2   28  33.000         3   4449.46200         1           0\n",
       "3   33  22.705         0  21984.47061         1           0\n",
       "4   32  28.880         0   3866.85520         1           0"
      ]
     },
     "execution_count": 3,
     "metadata": {},
     "output_type": "execute_result"
    }
   ],
   "source": [
    "data = pd.get_dummies(data, drop_first=True)#1st column is dropped, CA is dropped\n",
    "data.head()"
   ]
  },
  {
   "cell_type": "code",
   "execution_count": 4,
   "id": "73def6db",
   "metadata": {},
   "outputs": [],
   "source": [
    "dependent =data[[\"charges\"]]\n",
    "\n",
    "independent =data[[\"age\",\"bmi\", \"children\", \"sex_male\",\"smoker_yes\"]]"
   ]
  },
  {
   "cell_type": "code",
   "execution_count": 5,
   "id": "854f8ea0",
   "metadata": {},
   "outputs": [],
   "source": [
    "#importing train_test_split from sklearn.model_selection which is used for splitting the data into train and test\n",
    "#from sklearn.model_selection import train_test_split\n",
    "\n",
    "#splitting Xtrain,X_test, y_train and y_test usiing train_test_split function. Train and test split ratio is 70% and 30% respectively\n",
    "#X_train, X_test, y_train, y_test = train_test_split(independent, dependent, test_size=0.30, random_state=0)"
   ]
  },
  {
   "cell_type": "code",
   "execution_count": 6,
   "id": "a7bbf909",
   "metadata": {},
   "outputs": [],
   "source": [
    "#print(X_train.shape)\n",
    "#print(y_train.shape)\n",
    "#print(X_test.shape)\n",
    "#print(y_test.shape)\n"
   ]
  },
  {
   "cell_type": "code",
   "execution_count": 7,
   "id": "bcb74657",
   "metadata": {},
   "outputs": [],
   "source": [
    "#from sklearn.preprocessing import StandardScaler\n",
    "#sc =StandardScaler()\n",
    "#X_train = sc.fit_transform(X_train)\n",
    "#X_test = sc.transform(X_test)"
   ]
  },
  {
   "cell_type": "code",
   "execution_count": 8,
   "id": "9826603b",
   "metadata": {},
   "outputs": [],
   "source": [
    "from sklearn.model_selection import GridSearchCV\n",
    "from sklearn.svm import SVR\n",
    "\n",
    "param_grid =  {'kernel':['rbf', 'poly'], 'C':[1,2], 'gamma':['auto','scale']}"
   ]
  },
  {
   "cell_type": "code",
   "execution_count": 9,
   "id": "289a0451",
   "metadata": {},
   "outputs": [],
   "source": [
    "grid = GridSearchCV(SVR(), param_grid, refit=True, verbose=3, n_jobs=-1)"
   ]
  },
  {
   "cell_type": "code",
   "execution_count": 10,
   "id": "81b36369",
   "metadata": {},
   "outputs": [
    {
     "name": "stdout",
     "output_type": "stream",
     "text": [
      "Fitting 5 folds for each of 8 candidates, totalling 40 fits\n"
     ]
    },
    {
     "name": "stderr",
     "output_type": "stream",
     "text": [
      "C:\\Users\\AB92922\\anaconda3\\lib\\site-packages\\sklearn\\utils\\validation.py:993: DataConversionWarning: A column-vector y was passed when a 1d array was expected. Please change the shape of y to (n_samples, ), for example using ravel().\n",
      "  y = column_or_1d(y, warn=True)\n"
     ]
    },
    {
     "data": {
      "text/plain": [
       "GridSearchCV(estimator=SVR(), n_jobs=-1,\n",
       "             param_grid={'C': [1, 2], 'gamma': ['auto', 'scale'],\n",
       "                         'kernel': ['rbf', 'poly']},\n",
       "             verbose=3)"
      ]
     },
     "execution_count": 10,
     "metadata": {},
     "output_type": "execute_result"
    }
   ],
   "source": [
    "grid.fit(independent,dependent)"
   ]
  },
  {
   "cell_type": "code",
   "execution_count": 11,
   "id": "001bebce",
   "metadata": {},
   "outputs": [
    {
     "name": "stdout",
     "output_type": "stream",
     "text": [
      "The R_score value for best parameter {'C': 1, 'gamma': 'auto', 'kernel': 'poly'}:\n"
     ]
    }
   ],
   "source": [
    "re = grid.cv_results_\n",
    "print(\"The R_score value for best parameter {}:\".format(grid.best_params_))"
   ]
  },
  {
   "cell_type": "code",
   "execution_count": null,
   "id": "a4b52dbb",
   "metadata": {},
   "outputs": [],
   "source": []
  },
  {
   "cell_type": "code",
   "execution_count": 12,
   "id": "36ed3e36",
   "metadata": {},
   "outputs": [
    {
     "data": {
      "text/html": [
       "<div>\n",
       "<style scoped>\n",
       "    .dataframe tbody tr th:only-of-type {\n",
       "        vertical-align: middle;\n",
       "    }\n",
       "\n",
       "    .dataframe tbody tr th {\n",
       "        vertical-align: top;\n",
       "    }\n",
       "\n",
       "    .dataframe thead th {\n",
       "        text-align: right;\n",
       "    }\n",
       "</style>\n",
       "<table border=\"1\" class=\"dataframe\">\n",
       "  <thead>\n",
       "    <tr style=\"text-align: right;\">\n",
       "      <th></th>\n",
       "      <th>mean_fit_time</th>\n",
       "      <th>std_fit_time</th>\n",
       "      <th>mean_score_time</th>\n",
       "      <th>std_score_time</th>\n",
       "      <th>param_C</th>\n",
       "      <th>param_gamma</th>\n",
       "      <th>param_kernel</th>\n",
       "      <th>params</th>\n",
       "      <th>split0_test_score</th>\n",
       "      <th>split1_test_score</th>\n",
       "      <th>split2_test_score</th>\n",
       "      <th>split3_test_score</th>\n",
       "      <th>split4_test_score</th>\n",
       "      <th>mean_test_score</th>\n",
       "      <th>std_test_score</th>\n",
       "      <th>rank_test_score</th>\n",
       "    </tr>\n",
       "  </thead>\n",
       "  <tbody>\n",
       "    <tr>\n",
       "      <th>0</th>\n",
       "      <td>0.166611</td>\n",
       "      <td>0.005863</td>\n",
       "      <td>0.074003</td>\n",
       "      <td>0.005969</td>\n",
       "      <td>1</td>\n",
       "      <td>auto</td>\n",
       "      <td>rbf</td>\n",
       "      <td>{'C': 1, 'gamma': 'auto', 'kernel': 'rbf'}</td>\n",
       "      <td>-0.115171</td>\n",
       "      <td>-0.113204</td>\n",
       "      <td>-0.081329</td>\n",
       "      <td>-0.105826</td>\n",
       "      <td>-0.107122</td>\n",
       "      <td>-0.104530</td>\n",
       "      <td>0.012126</td>\n",
       "      <td>8</td>\n",
       "    </tr>\n",
       "    <tr>\n",
       "      <th>1</th>\n",
       "      <td>1480.924961</td>\n",
       "      <td>260.741201</td>\n",
       "      <td>0.032173</td>\n",
       "      <td>0.003284</td>\n",
       "      <td>1</td>\n",
       "      <td>auto</td>\n",
       "      <td>poly</td>\n",
       "      <td>{'C': 1, 'gamma': 'auto', 'kernel': 'poly'}</td>\n",
       "      <td>0.861770</td>\n",
       "      <td>0.776154</td>\n",
       "      <td>0.865100</td>\n",
       "      <td>0.792703</td>\n",
       "      <td>0.823719</td>\n",
       "      <td>0.823889</td>\n",
       "      <td>0.035734</td>\n",
       "      <td>1</td>\n",
       "    </tr>\n",
       "    <tr>\n",
       "      <th>2</th>\n",
       "      <td>0.139338</td>\n",
       "      <td>0.004063</td>\n",
       "      <td>0.074489</td>\n",
       "      <td>0.005605</td>\n",
       "      <td>1</td>\n",
       "      <td>scale</td>\n",
       "      <td>rbf</td>\n",
       "      <td>{'C': 1, 'gamma': 'scale', 'kernel': 'rbf'}</td>\n",
       "      <td>-0.115390</td>\n",
       "      <td>-0.110235</td>\n",
       "      <td>-0.079858</td>\n",
       "      <td>-0.104068</td>\n",
       "      <td>-0.108358</td>\n",
       "      <td>-0.103582</td>\n",
       "      <td>0.012406</td>\n",
       "      <td>6</td>\n",
       "    </tr>\n",
       "    <tr>\n",
       "      <th>3</th>\n",
       "      <td>0.117786</td>\n",
       "      <td>0.002206</td>\n",
       "      <td>0.022548</td>\n",
       "      <td>0.001364</td>\n",
       "      <td>1</td>\n",
       "      <td>scale</td>\n",
       "      <td>poly</td>\n",
       "      <td>{'C': 1, 'gamma': 'scale', 'kernel': 'poly'}</td>\n",
       "      <td>-0.093867</td>\n",
       "      <td>-0.073490</td>\n",
       "      <td>-0.065017</td>\n",
       "      <td>-0.092734</td>\n",
       "      <td>-0.112204</td>\n",
       "      <td>-0.087462</td>\n",
       "      <td>0.016613</td>\n",
       "      <td>3</td>\n",
       "    </tr>\n",
       "    <tr>\n",
       "      <th>4</th>\n",
       "      <td>0.152900</td>\n",
       "      <td>0.004803</td>\n",
       "      <td>0.074349</td>\n",
       "      <td>0.002169</td>\n",
       "      <td>2</td>\n",
       "      <td>auto</td>\n",
       "      <td>rbf</td>\n",
       "      <td>{'C': 2, 'gamma': 'auto', 'kernel': 'rbf'}</td>\n",
       "      <td>-0.115015</td>\n",
       "      <td>-0.112926</td>\n",
       "      <td>-0.081050</td>\n",
       "      <td>-0.105586</td>\n",
       "      <td>-0.107048</td>\n",
       "      <td>-0.104325</td>\n",
       "      <td>0.012157</td>\n",
       "      <td>7</td>\n",
       "    </tr>\n",
       "    <tr>\n",
       "      <th>5</th>\n",
       "      <td>1645.837874</td>\n",
       "      <td>385.797290</td>\n",
       "      <td>0.020243</td>\n",
       "      <td>0.005263</td>\n",
       "      <td>2</td>\n",
       "      <td>auto</td>\n",
       "      <td>poly</td>\n",
       "      <td>{'C': 2, 'gamma': 'auto', 'kernel': 'poly'}</td>\n",
       "      <td>0.862719</td>\n",
       "      <td>0.776526</td>\n",
       "      <td>0.862723</td>\n",
       "      <td>0.791720</td>\n",
       "      <td>0.823544</td>\n",
       "      <td>0.823446</td>\n",
       "      <td>0.035477</td>\n",
       "      <td>2</td>\n",
       "    </tr>\n",
       "    <tr>\n",
       "      <th>6</th>\n",
       "      <td>0.185559</td>\n",
       "      <td>0.002325</td>\n",
       "      <td>0.099269</td>\n",
       "      <td>0.001630</td>\n",
       "      <td>2</td>\n",
       "      <td>scale</td>\n",
       "      <td>rbf</td>\n",
       "      <td>{'C': 2, 'gamma': 'scale', 'kernel': 'rbf'}</td>\n",
       "      <td>-0.115633</td>\n",
       "      <td>-0.107320</td>\n",
       "      <td>-0.078616</td>\n",
       "      <td>-0.103000</td>\n",
       "      <td>-0.109713</td>\n",
       "      <td>-0.102856</td>\n",
       "      <td>0.012789</td>\n",
       "      <td>5</td>\n",
       "    </tr>\n",
       "    <tr>\n",
       "      <th>7</th>\n",
       "      <td>0.164038</td>\n",
       "      <td>0.005794</td>\n",
       "      <td>0.029892</td>\n",
       "      <td>0.000659</td>\n",
       "      <td>2</td>\n",
       "      <td>scale</td>\n",
       "      <td>poly</td>\n",
       "      <td>{'C': 2, 'gamma': 'scale', 'kernel': 'poly'}</td>\n",
       "      <td>-0.097444</td>\n",
       "      <td>-0.064383</td>\n",
       "      <td>-0.073172</td>\n",
       "      <td>-0.096621</td>\n",
       "      <td>-0.129754</td>\n",
       "      <td>-0.092275</td>\n",
       "      <td>0.022774</td>\n",
       "      <td>4</td>\n",
       "    </tr>\n",
       "  </tbody>\n",
       "</table>\n",
       "</div>"
      ],
      "text/plain": [
       "   mean_fit_time  std_fit_time  mean_score_time  std_score_time param_C  \\\n",
       "0       0.166611      0.005863         0.074003        0.005969       1   \n",
       "1    1480.924961    260.741201         0.032173        0.003284       1   \n",
       "2       0.139338      0.004063         0.074489        0.005605       1   \n",
       "3       0.117786      0.002206         0.022548        0.001364       1   \n",
       "4       0.152900      0.004803         0.074349        0.002169       2   \n",
       "5    1645.837874    385.797290         0.020243        0.005263       2   \n",
       "6       0.185559      0.002325         0.099269        0.001630       2   \n",
       "7       0.164038      0.005794         0.029892        0.000659       2   \n",
       "\n",
       "  param_gamma param_kernel                                        params  \\\n",
       "0        auto          rbf    {'C': 1, 'gamma': 'auto', 'kernel': 'rbf'}   \n",
       "1        auto         poly   {'C': 1, 'gamma': 'auto', 'kernel': 'poly'}   \n",
       "2       scale          rbf   {'C': 1, 'gamma': 'scale', 'kernel': 'rbf'}   \n",
       "3       scale         poly  {'C': 1, 'gamma': 'scale', 'kernel': 'poly'}   \n",
       "4        auto          rbf    {'C': 2, 'gamma': 'auto', 'kernel': 'rbf'}   \n",
       "5        auto         poly   {'C': 2, 'gamma': 'auto', 'kernel': 'poly'}   \n",
       "6       scale          rbf   {'C': 2, 'gamma': 'scale', 'kernel': 'rbf'}   \n",
       "7       scale         poly  {'C': 2, 'gamma': 'scale', 'kernel': 'poly'}   \n",
       "\n",
       "   split0_test_score  split1_test_score  split2_test_score  split3_test_score  \\\n",
       "0          -0.115171          -0.113204          -0.081329          -0.105826   \n",
       "1           0.861770           0.776154           0.865100           0.792703   \n",
       "2          -0.115390          -0.110235          -0.079858          -0.104068   \n",
       "3          -0.093867          -0.073490          -0.065017          -0.092734   \n",
       "4          -0.115015          -0.112926          -0.081050          -0.105586   \n",
       "5           0.862719           0.776526           0.862723           0.791720   \n",
       "6          -0.115633          -0.107320          -0.078616          -0.103000   \n",
       "7          -0.097444          -0.064383          -0.073172          -0.096621   \n",
       "\n",
       "   split4_test_score  mean_test_score  std_test_score  rank_test_score  \n",
       "0          -0.107122        -0.104530        0.012126                8  \n",
       "1           0.823719         0.823889        0.035734                1  \n",
       "2          -0.108358        -0.103582        0.012406                6  \n",
       "3          -0.112204        -0.087462        0.016613                3  \n",
       "4          -0.107048        -0.104325        0.012157                7  \n",
       "5           0.823544         0.823446        0.035477                2  \n",
       "6          -0.109713        -0.102856        0.012789                5  \n",
       "7          -0.129754        -0.092275        0.022774                4  "
      ]
     },
     "execution_count": 12,
     "metadata": {},
     "output_type": "execute_result"
    }
   ],
   "source": [
    "table = pd.DataFrame.from_dict(re)\n",
    "table"
   ]
  },
  {
   "cell_type": "code",
   "execution_count": 13,
   "id": "48a14cad",
   "metadata": {},
   "outputs": [
    {
     "name": "stdout",
     "output_type": "stream",
     "text": [
      "Age:55\n",
      "BMI:33\n",
      "childern:1\n",
      "Sex Male 0 or 1:1\n",
      "Smoker yes 0 or 1:1\n"
     ]
    }
   ],
   "source": [
    "age_input = float(input(\"Age:\"))\n",
    "bmi_input = float(input(\"BMI:\"))\n",
    "childern_input = float(input(\"childern:\"))\n",
    "sex_male_input = float(input(\"Sex Male 0 or 1:\"))\n",
    "smoker_yes_input = float(input(\"Smoker yes 0 or 1:\"))\n"
   ]
  },
  {
   "cell_type": "code",
   "execution_count": 14,
   "id": "7c1f2aca",
   "metadata": {},
   "outputs": [
    {
     "name": "stdout",
     "output_type": "stream",
     "text": [
      "Future_prediction=[39061.91190303]\n"
     ]
    },
    {
     "name": "stderr",
     "output_type": "stream",
     "text": [
      "C:\\Users\\AB92922\\anaconda3\\lib\\site-packages\\sklearn\\base.py:450: UserWarning: X does not have valid feature names, but SVR was fitted with feature names\n",
      "  warnings.warn(\n"
     ]
    }
   ],
   "source": [
    "Future_prediction = grid.predict([[age_input, bmi_input, childern_input, sex_male_input, smoker_yes_input]])\n",
    "print(\"Future_prediction={}\".format(Future_prediction))"
   ]
  },
  {
   "cell_type": "code",
   "execution_count": null,
   "id": "cec714f2",
   "metadata": {},
   "outputs": [],
   "source": []
  },
  {
   "cell_type": "code",
   "execution_count": 31,
   "id": "49127a51",
   "metadata": {},
   "outputs": [],
   "source": [
    "import pickle\n",
    "#model saved in save fomat\n",
    "filename = 'SVBestGridModel.sav'\n",
    "#pickle.dump() serializes the regressor object and writes it to the specified file (filename) in binary mode ('wb').\n",
    "pickle.dump(grid, open(filename, 'wb'))"
   ]
  },
  {
   "cell_type": "code",
   "execution_count": 32,
   "id": "811ab85a",
   "metadata": {},
   "outputs": [
    {
     "name": "stdout",
     "output_type": "stream",
     "text": [
      "[11196.10919334]\n"
     ]
    },
    {
     "name": "stderr",
     "output_type": "stream",
     "text": [
      "C:\\Users\\AB92922\\anaconda3\\lib\\site-packages\\sklearn\\base.py:450: UserWarning: X does not have valid feature names, but SVR was fitted with feature names\n",
      "  warnings.warn(\n"
     ]
    }
   ],
   "source": [
    "# the mode 'rb' used in file operations stands for \"read binary\" and saved in laoded model\n",
    "loaded_model = pickle.load(open('SVBestGridModel.sav','rb'))\n",
    "#using predict keyeword, predicting 15 years of experience of emplyee and predicted value store in result variable\n",
    "result = loaded_model.predict([[55,37,1,1,0]])\n",
    "#pring the result\n",
    "print(result)"
   ]
  },
  {
   "cell_type": "code",
   "execution_count": null,
   "id": "d41b152b",
   "metadata": {},
   "outputs": [],
   "source": []
  }
 ],
 "metadata": {
  "kernelspec": {
   "display_name": "Python 3 (ipykernel)",
   "language": "python",
   "name": "python3"
  },
  "language_info": {
   "codemirror_mode": {
    "name": "ipython",
    "version": 3
   },
   "file_extension": ".py",
   "mimetype": "text/x-python",
   "name": "python",
   "nbconvert_exporter": "python",
   "pygments_lexer": "ipython3",
   "version": "3.9.13"
  }
 },
 "nbformat": 4,
 "nbformat_minor": 5
}
