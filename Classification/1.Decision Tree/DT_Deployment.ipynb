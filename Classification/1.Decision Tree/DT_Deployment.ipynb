{
 "cells": [
  {
   "cell_type": "code",
   "execution_count": 3,
   "id": "8748fe51",
   "metadata": {},
   "outputs": [],
   "source": [
    "#importing pickle file and  used for serializing and deserializing Python objects. \n",
    "import pickle "
   ]
  },
  {
   "cell_type": "code",
   "execution_count": 4,
   "id": "31c91d55",
   "metadata": {},
   "outputs": [],
   "source": [
    "#the mode 'rb' used in file operations stands for \"read binary\" and saved in laoded model\n",
    "load_model = pickle.load((open(\"DTclassification.sav\",\"rb\")))"
   ]
  },
  {
   "cell_type": "code",
   "execution_count": 8,
   "id": "53c0a8a6",
   "metadata": {},
   "outputs": [
    {
     "name": "stderr",
     "output_type": "stream",
     "text": [
      "C:\\Users\\AB92922\\anaconda3\\lib\\site-packages\\sklearn\\base.py:450: UserWarning: X does not have valid feature names, but DecisionTreeClassifier was fitted with feature names\n",
      "  warnings.warn(\n"
     ]
    }
   ],
   "source": [
    "#predicting the output value by inputting the values\n",
    "result =load_model.predict([[31,118000,1]])\n",
    "                            "
   ]
  },
  {
   "cell_type": "code",
   "execution_count": 9,
   "id": "33b9dc45",
   "metadata": {},
   "outputs": [
    {
     "name": "stdout",
     "output_type": "stream",
     "text": [
      "[1]\n"
     ]
    }
   ],
   "source": [
    "print(result)"
   ]
  },
  {
   "cell_type": "code",
   "execution_count": null,
   "id": "ee3a8763",
   "metadata": {},
   "outputs": [],
   "source": []
  }
 ],
 "metadata": {
  "kernelspec": {
   "display_name": "Python 3 (ipykernel)",
   "language": "python",
   "name": "python3"
  },
  "language_info": {
   "codemirror_mode": {
    "name": "ipython",
    "version": 3
   },
   "file_extension": ".py",
   "mimetype": "text/x-python",
   "name": "python",
   "nbconvert_exporter": "python",
   "pygments_lexer": "ipython3",
   "version": "3.9.13"
  }
 },
 "nbformat": 4,
 "nbformat_minor": 5
}
