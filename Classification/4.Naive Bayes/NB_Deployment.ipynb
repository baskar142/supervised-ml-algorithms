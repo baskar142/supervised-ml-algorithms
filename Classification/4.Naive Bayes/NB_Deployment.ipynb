{
 "cells": [
  {
   "cell_type": "code",
   "execution_count": null,
   "id": "1296d5bb",
   "metadata": {},
   "outputs": [],
   "source": [
    "#importing pickle file and  used for serializing and deserializing Python objects. \n",
    "import pickle "
   ]
  },
  {
   "cell_type": "code",
   "execution_count": 5,
   "id": "fc9a45f4",
   "metadata": {},
   "outputs": [],
   "source": [
    "#the mode 'rb' used in file operations stands for \"read binary\" and saved in laoded model\n",
    "load_model = pickle.load((open(\"NBclassificationGaussianNB.sav\",\"rb\")))"
   ]
  },
  {
   "cell_type": "code",
   "execution_count": 6,
   "id": "a0bffabc",
   "metadata": {},
   "outputs": [
    {
     "name": "stderr",
     "output_type": "stream",
     "text": [
      "C:\\Users\\AB92922\\anaconda3\\lib\\site-packages\\sklearn\\base.py:450: UserWarning: X does not have valid feature names, but ComplementNB was fitted with feature names\n",
      "  warnings.warn(\n"
     ]
    }
   ],
   "source": [
    "#predicting the output value by inputting the values\n",
    "result =load_model.predict([[11,44444,1]])"
   ]
  },
  {
   "cell_type": "code",
   "execution_count": 7,
   "id": "ecce3c35",
   "metadata": {},
   "outputs": [
    {
     "name": "stdout",
     "output_type": "stream",
     "text": [
      "[1]\n"
     ]
    }
   ],
   "source": [
    "print(result)"
   ]
  },
  {
   "cell_type": "code",
   "execution_count": null,
   "id": "ad528c1e",
   "metadata": {},
   "outputs": [],
   "source": []
  }
 ],
 "metadata": {
  "kernelspec": {
   "display_name": "Python 3 (ipykernel)",
   "language": "python",
   "name": "python3"
  },
  "language_info": {
   "codemirror_mode": {
    "name": "ipython",
    "version": 3
   },
   "file_extension": ".py",
   "mimetype": "text/x-python",
   "name": "python",
   "nbconvert_exporter": "python",
   "pygments_lexer": "ipython3",
   "version": "3.9.13"
  }
 },
 "nbformat": 4,
 "nbformat_minor": 5
}
