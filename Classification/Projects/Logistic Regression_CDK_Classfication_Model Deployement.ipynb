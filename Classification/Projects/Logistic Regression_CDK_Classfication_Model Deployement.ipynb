{
 "cells": [
  {
   "cell_type": "code",
   "execution_count": 20,
   "id": "f4ad5d8e",
   "metadata": {},
   "outputs": [],
   "source": [
    "# Importing necessary libraries\n",
    "# NumPy provides support for large, multi-dimensional arrays and matrices.\n",
    "import numpy as np\n",
    "# Pandas provides support for data manipulation and analysis.\n",
    "import pandas as pd\n",
    "# Matplotlib.pyplot is a plotting library in Python that provides a MATLAB-like interface for creating visualizations.\n",
    "import matplotlib.pyplot as plt"
   ]
  },
  {
   "cell_type": "code",
   "execution_count": 21,
   "id": "b30d725e",
   "metadata": {},
   "outputs": [],
   "source": [
    "# Load the dataset\n",
    "data = pd.read_csv(\"CKD.csv\")"
   ]
  },
  {
   "cell_type": "code",
   "execution_count": 22,
   "id": "eebf3a98",
   "metadata": {},
   "outputs": [],
   "source": [
    "# Convert categorical variables into dummy/indicator variables\n",
    "data = pd.get_dummies(data, drop_first=True)"
   ]
  },
  {
   "cell_type": "code",
   "execution_count": 23,
   "id": "6b49da54",
   "metadata": {},
   "outputs": [],
   "source": [
    "# Create the dependent variable (target)\n",
    "dependent = data[[\"classification_yes\"]]"
   ]
  },
  {
   "cell_type": "code",
   "execution_count": 35,
   "id": "bcebda76",
   "metadata": {},
   "outputs": [],
   "source": [
    "# Create the independent variables (features)\n",
    "independent = data[['age', 'bp', 'al', 'su', 'bgr', 'bu', 'sc', 'sod', 'pot', 'hrmo', 'pcv',\n",
    "       'wc', 'rc', 'sg_b', 'sg_c', 'sg_d', 'sg_e', 'rbc_normal', 'pc_normal',\n",
    "       'pcc_present', 'ba_present', 'htn_yes', 'dm_yes', 'cad_yes',\n",
    "       'appet_yes', 'pe_yes', 'ane_yes']]\n"
   ]
  },
  {
   "cell_type": "code",
   "execution_count": 27,
   "id": "d567aee9",
   "metadata": {},
   "outputs": [],
   "source": [
    " #Importing train_test_split from sklearn.model_selection\n",
    "# This function is used for splitting the data into training and testing sets\n",
    "from sklearn.model_selection import train_test_split"
   ]
  },
  {
   "cell_type": "code",
   "execution_count": 28,
   "id": "3a9cbb08",
   "metadata": {},
   "outputs": [],
   "source": [
    "# Splitting data into training and testing sets\n",
    "# Train and test split ratio is 70% and 30% respectively\n",
    "X_train, X_test, y_train, y_test = train_test_split(independent, dependent, test_size=0.30, random_state=0)"
   ]
  },
  {
   "cell_type": "code",
   "execution_count": 29,
   "id": "639ab105",
   "metadata": {},
   "outputs": [],
   "source": [
    "# Standardizing the features\n",
    "from sklearn.preprocessing import StandardScaler\n",
    "sc = StandardScaler()\n",
    "X_train = sc.fit_transform(X_train)\n",
    "X_test = sc.transform(X_test)"
   ]
  },
  {
   "cell_type": "code",
   "execution_count": 36,
   "id": "f6687ae2",
   "metadata": {},
   "outputs": [
    {
     "name": "stderr",
     "output_type": "stream",
     "text": [
      "C:\\Users\\AB92922\\anaconda3\\lib\\site-packages\\sklearn\\base.py:450: UserWarning: X does not have valid feature names, but StandardScaler was fitted with feature names\n",
      "  warnings.warn(\n"
     ]
    },
    {
     "data": {
      "text/plain": [
       "array([[-1.66716664,  0.26534721, -0.67367325, -0.36578176, -0.37689758,\n",
       "        -0.78894921, -0.34458897,  0.42822683,  0.14656163,  0.93792653,\n",
       "         1.11040228, -0.59507699,  0.76631453,  2.08935029, -0.52897686,\n",
       "        -0.45584231, -0.13508581,  0.39101478,  0.50111982, -0.33399668,\n",
       "        -0.22984819, -0.73582366, -0.73004591, -0.29973947,  0.50671171,\n",
       "        -0.51229234, -0.43852901]])"
      ]
     },
     "execution_count": 36,
     "metadata": {},
     "output_type": "execute_result"
    }
   ],
   "source": [
    "pre_inputs = sc.transform([[\n",
    "    25.0, 80.0, 0.0, 0.0, 121.0, 19.0, 1.2, 142.0, 4.9, 15.0, 48.0, 6900.0, 5.3, \n",
    "    1.0, 0.0, 0.0, 0.0, 1.0, 1.0, 0.0, 0.0, 0.0, 0.0, 0.0, 1.0, 0.0,0\n",
    "]])\n",
    "pre_inputs"
   ]
  },
  {
   "cell_type": "code",
   "execution_count": 37,
   "id": "62e72cff",
   "metadata": {},
   "outputs": [],
   "source": [
    "# Importing pickle file and used for serializing and deserializing Python objects.\n",
    "import pickle   \n",
    "\n",
    "# Load the saved model using pickle, mode 'rb' stands for \"read binary\"\n",
    "loaded_model = pickle.load(open(\"LogisticRegressionCDKclassification.sav\",\"rb\"))  \n",
    "\n",
    "\n",
    "\n"
   ]
  },
  {
   "cell_type": "code",
   "execution_count": 38,
   "id": "787cec11",
   "metadata": {},
   "outputs": [
    {
     "data": {
      "text/plain": [
       "array([0], dtype=uint8)"
      ]
     },
     "execution_count": 38,
     "metadata": {},
     "output_type": "execute_result"
    }
   ],
   "source": [
    "# Predicting the output value by inputting the values\n",
    "result = loaded_model.predict(pre_inputs)\n",
    "result"
   ]
  },
  {
   "cell_type": "code",
   "execution_count": null,
   "id": "4a375013",
   "metadata": {},
   "outputs": [],
   "source": []
  },
  {
   "cell_type": "code",
   "execution_count": null,
   "id": "a0bc6fe0",
   "metadata": {},
   "outputs": [],
   "source": []
  },
  {
   "cell_type": "code",
   "execution_count": null,
   "id": "0e4b91a5",
   "metadata": {},
   "outputs": [],
   "source": []
  }
 ],
 "metadata": {
  "kernelspec": {
   "display_name": "Python 3 (ipykernel)",
   "language": "python",
   "name": "python3"
  },
  "language_info": {
   "codemirror_mode": {
    "name": "ipython",
    "version": 3
   },
   "file_extension": ".py",
   "mimetype": "text/x-python",
   "name": "python",
   "nbconvert_exporter": "python",
   "pygments_lexer": "ipython3",
   "version": "3.9.13"
  }
 },
 "nbformat": 4,
 "nbformat_minor": 5
}
