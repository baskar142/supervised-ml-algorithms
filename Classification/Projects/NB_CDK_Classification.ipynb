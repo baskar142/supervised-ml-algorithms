{
 "cells": [
  {
   "cell_type": "code",
   "execution_count": 54,
   "id": "9eb34f1f",
   "metadata": {},
   "outputs": [],
   "source": [
    "# Importing necessary libraries\n",
    "# NumPy provides support for large, multi-dimensional arrays and matrices.\n",
    "import numpy as np\n",
    "# Pandas provides support for data manipulation and analysis.\n",
    "import pandas as pd\n",
    "# Matplotlib.pyplot is a plotting library in Python that provides a MATLAB-like interface for creating visualizations.\n",
    "import matplotlib.pyplot as plt"
   ]
  },
  {
   "cell_type": "code",
   "execution_count": 55,
   "id": "32cc556d",
   "metadata": {},
   "outputs": [],
   "source": [
    "# Load the dataset\n",
    "data = pd.read_csv(\"CKD.csv\")"
   ]
  },
  {
   "cell_type": "code",
   "execution_count": 56,
   "id": "cf350910",
   "metadata": {},
   "outputs": [
    {
     "name": "stdout",
     "output_type": "stream",
     "text": [
      "   age         bp   al   su         bgr         bu        sc         sod  \\\n",
      "0  2.0  76.459948  3.0  0.0  148.112676  57.482105  3.077356  137.528754   \n",
      "1  3.0  76.459948  2.0  0.0  148.112676  22.000000  0.700000  137.528754   \n",
      "2  4.0  76.459948  1.0  0.0   99.000000  23.000000  0.600000  138.000000   \n",
      "3  5.0  76.459948  1.0  0.0  148.112676  16.000000  0.700000  138.000000   \n",
      "\n",
      "        pot       hrmo  ...  pc_normal  pcc_present  ba_present  htn_yes  \\\n",
      "0  4.627244  12.518156  ...          0            0           0        0   \n",
      "1  4.627244  10.700000  ...          1            0           0        0   \n",
      "2  4.400000  12.000000  ...          1            0           0        0   \n",
      "3  3.200000   8.100000  ...          1            0           0        0   \n",
      "\n",
      "   dm_yes  cad_yes  appet_yes  pe_yes  ane_yes  classification_yes  \n",
      "0       0        0          1       1        0                   1  \n",
      "1       0        0          1       0        0                   1  \n",
      "2       0        0          1       0        0                   1  \n",
      "3       0        0          1       0        1                   1  \n",
      "\n",
      "[4 rows x 28 columns]\n"
     ]
    }
   ],
   "source": [
    "# Convert categorical variables into dummy/indicator variables\n",
    "data = pd.get_dummies(data, drop_first=True)\n",
    "print(data.head(4))"
   ]
  },
  {
   "cell_type": "code",
   "execution_count": 57,
   "id": "6aa4cf3c",
   "metadata": {},
   "outputs": [],
   "source": [
    "# Create the dependent variable (target)\n",
    "dependent = data[[\"classification_yes\"]]"
   ]
  },
  {
   "cell_type": "code",
   "execution_count": 58,
   "id": "eb901e1d",
   "metadata": {},
   "outputs": [
    {
     "name": "stdout",
     "output_type": "stream",
     "text": [
      "age                   0\n",
      "bp                    0\n",
      "al                    0\n",
      "su                    0\n",
      "bgr                   0\n",
      "bu                    0\n",
      "sc                    0\n",
      "sod                   0\n",
      "pot                   0\n",
      "hrmo                  0\n",
      "pcv                   0\n",
      "wc                    0\n",
      "rc                    0\n",
      "sg_b                  0\n",
      "sg_c                  0\n",
      "sg_d                  0\n",
      "sg_e                  0\n",
      "rbc_normal            0\n",
      "pc_normal             0\n",
      "pcc_present           0\n",
      "ba_present            0\n",
      "htn_yes               0\n",
      "dm_yes                0\n",
      "cad_yes               0\n",
      "appet_yes             0\n",
      "pe_yes                0\n",
      "ane_yes               0\n",
      "classification_yes    0\n",
      "dtype: int64\n"
     ]
    }
   ],
   "source": [
    "# Check for missing values\n",
    "print(data.isnull().sum())"
   ]
  },
  {
   "cell_type": "code",
   "execution_count": 59,
   "id": "a82261ba",
   "metadata": {},
   "outputs": [
    {
     "data": {
      "text/plain": [
       "Index(['age', 'bp', 'al', 'su', 'bgr', 'bu', 'sc', 'sod', 'pot', 'hrmo', 'pcv',\n",
       "       'wc', 'rc', 'sg_b', 'sg_c', 'sg_d', 'sg_e', 'rbc_normal', 'pc_normal',\n",
       "       'pcc_present', 'ba_present', 'htn_yes', 'dm_yes', 'cad_yes',\n",
       "       'appet_yes', 'pe_yes', 'ane_yes'],\n",
       "      dtype='object')"
      ]
     },
     "execution_count": 59,
     "metadata": {},
     "output_type": "execute_result"
    }
   ],
   "source": [
    "# Create the independent variables (features)\n",
    "independent = data[['age', 'bp', 'al', 'su', 'bgr', 'bu', 'sc', 'sod', 'pot', 'hrmo', 'pcv',\n",
    "       'wc', 'rc', 'sg_b', 'sg_c', 'sg_d', 'sg_e', 'rbc_normal', 'pc_normal',\n",
    "       'pcc_present', 'ba_present', 'htn_yes', 'dm_yes', 'cad_yes',\n",
    "       'appet_yes', 'pe_yes', 'ane_yes']]\n",
    "independent.columns"
   ]
  },
  {
   "cell_type": "code",
   "execution_count": 60,
   "id": "a4984363",
   "metadata": {},
   "outputs": [],
   "source": [
    "# Importing train_test_split from sklearn.model_selection\n",
    "# This function is used for splitting the data into training and testing sets\n",
    "from sklearn.model_selection import train_test_split"
   ]
  },
  {
   "cell_type": "code",
   "execution_count": 61,
   "id": "b6749363",
   "metadata": {},
   "outputs": [],
   "source": [
    "# Splitting data into training and testing sets\n",
    "# Train and test split ratio is 70% and 30% respectively\n",
    "X_train, X_test, y_train, y_test = train_test_split(independent, dependent, test_size=0.30, random_state=0)"
   ]
  },
  {
   "cell_type": "code",
   "execution_count": 62,
   "id": "535c9093",
   "metadata": {},
   "outputs": [
    {
     "name": "stdout",
     "output_type": "stream",
     "text": [
      "[[45  0]\n",
      " [ 2 73]]\n",
      "              precision    recall  f1-score   support\n",
      "\n",
      "           0       0.96      1.00      0.98        45\n",
      "           1       1.00      0.97      0.99        75\n",
      "\n",
      "    accuracy                           0.98       120\n",
      "   macro avg       0.98      0.99      0.98       120\n",
      "weighted avg       0.98      0.98      0.98       120\n",
      "\n",
      "ROC AUC Score:: 1.0\n"
     ]
    },
    {
     "name": "stderr",
     "output_type": "stream",
     "text": [
      "C:\\Users\\AB92922\\anaconda3\\lib\\site-packages\\sklearn\\utils\\validation.py:993: DataConversionWarning: A column-vector y was passed when a 1d array was expected. Please change the shape of y to (n_samples, ), for example using ravel().\n",
      "  y = column_or_1d(y, warn=True)\n"
     ]
    }
   ],
   "source": [
    "# Importing Gaussian Naive Bayes classifier from scikit-learn\n",
    "from sklearn.naive_bayes import GaussianNB  \n",
    "\n",
    "# Initializing the Gaussian Naive Bayes classifier\n",
    "classifier = GaussianNB()\n",
    "\n",
    "# Training the classifier using training data\n",
    "classifier.fit(X_train, y_train)\n",
    "\n",
    "# Making predictions on the test data\n",
    "y_pred = classifier.predict(X_test)\n",
    "\n",
    "# Importing confusion matrix metric from scikit-learn\n",
    "from sklearn.metrics import confusion_matrix  \n",
    "\n",
    "# Calculating the confusion matrix to evaluate the performance of the classifier\n",
    "cm = confusion_matrix(y_test, y_pred)\n",
    "\n",
    "# Printing the confusion matrix\n",
    "print(cm)\n",
    "\n",
    "# Importing classification report metric from scikit-learn\n",
    "from sklearn.metrics import classification_report  \n",
    "\n",
    "# Generating a classification report to summarize the performance of the classifier\n",
    "clf_report = classification_report(y_test, y_pred)\n",
    "\n",
    "# Printing the classification report\n",
    "print(clf_report)\n",
    "\n",
    "# Importing roc_curve and roc_auc_score metrics from scikit-learn\n",
    "from sklearn.metrics import roc_curve, roc_auc_score\n",
    "import matplotlib.pyplot as plt\n",
    "\n",
    "# Calculating the probabilities of positive class (class 1) predictions\n",
    "y_prob = classifier.predict_proba(X_test)[:, 1]\n",
    "\n",
    "# Calculating the false positive rate, true positive rate, and thresholds for the ROC curve\n",
    "fpr, tpr, thresholds = roc_curve(y_test, y_prob)\n",
    "\n",
    "# Calculating the Area Under the Curve (AUC) score\n",
    "roc_auc= roc_auc_score(y_test, y_prob)\n",
    "\n",
    "# Printing the AUC score\n",
    "print(\"ROC AUC Score::\", roc_auc)\n"
   ]
  },
  {
   "cell_type": "code",
   "execution_count": null,
   "id": "ce62ddc5",
   "metadata": {},
   "outputs": [],
   "source": []
  },
  {
   "cell_type": "code",
   "execution_count": 63,
   "id": "17a16706",
   "metadata": {},
   "outputs": [
    {
     "name": "stdout",
     "output_type": "stream",
     "text": [
      "[[44  1]\n",
      " [22 53]]\n",
      "              precision    recall  f1-score   support\n",
      "\n",
      "           0       0.67      0.98      0.79        45\n",
      "           1       0.98      0.71      0.82        75\n",
      "\n",
      "    accuracy                           0.81       120\n",
      "   macro avg       0.82      0.84      0.81       120\n",
      "weighted avg       0.86      0.81      0.81       120\n",
      "\n",
      "ROC AUC Score:: 1.0\n"
     ]
    },
    {
     "name": "stderr",
     "output_type": "stream",
     "text": [
      "C:\\Users\\AB92922\\anaconda3\\lib\\site-packages\\sklearn\\utils\\validation.py:993: DataConversionWarning: A column-vector y was passed when a 1d array was expected. Please change the shape of y to (n_samples, ), for example using ravel().\n",
      "  y = column_or_1d(y, warn=True)\n"
     ]
    }
   ],
   "source": [
    "# Importing Multinomial Naive Bayes classifier from scikit-learn\n",
    "from sklearn.naive_bayes import MultinomialNB  \n",
    "\n",
    "# Initializing the Multinomial Naive Bayes classifier\n",
    "classifier = MultinomialNB()\n",
    "\n",
    "# Training the classifier using training data\n",
    "classifier.fit(X_train, y_train)\n",
    "\n",
    "# Making predictions on the test data\n",
    "y_pred = classifier.predict(X_test)\n",
    "\n",
    "# Importing confusion matrix metric from scikit-learn\n",
    "from sklearn.metrics import confusion_matrix  \n",
    "\n",
    "# Calculating the confusion matrix to evaluate the performance of the classifier\n",
    "cm = confusion_matrix(y_test, y_pred)\n",
    "\n",
    "# Printing the confusion matrix\n",
    "print(cm)\n",
    "\n",
    "# Importing classification report metric from scikit-learn\n",
    "from sklearn.metrics import classification_report  \n",
    "\n",
    "# Generating a classification report to summarize the performance of the classifier\n",
    "clf_report = classification_report(y_test, y_pred)\n",
    "\n",
    "# Printing the classification report\n",
    "print(clf_report)\n",
    "\n",
    "# Calculating the Area Under the Curve (AUC) score\n",
    "roc_auc= roc_auc_score(y_test, y_prob)\n",
    "\n",
    "# Printing the AUC score\n",
    "print(\"ROC AUC Score::\", roc_auc)\n"
   ]
  },
  {
   "cell_type": "code",
   "execution_count": null,
   "id": "8043946b",
   "metadata": {},
   "outputs": [],
   "source": []
  },
  {
   "cell_type": "code",
   "execution_count": 64,
   "id": "fa2ad13b",
   "metadata": {},
   "outputs": [
    {
     "name": "stdout",
     "output_type": "stream",
     "text": [
      "[[45  0]\n",
      " [ 8 67]]\n",
      "              precision    recall  f1-score   support\n",
      "\n",
      "           0       0.85      1.00      0.92        45\n",
      "           1       1.00      0.89      0.94        75\n",
      "\n",
      "    accuracy                           0.93       120\n",
      "   macro avg       0.92      0.95      0.93       120\n",
      "weighted avg       0.94      0.93      0.93       120\n",
      "\n",
      "ROC AUC Score:: 1.0\n"
     ]
    },
    {
     "name": "stderr",
     "output_type": "stream",
     "text": [
      "C:\\Users\\AB92922\\anaconda3\\lib\\site-packages\\sklearn\\utils\\validation.py:993: DataConversionWarning: A column-vector y was passed when a 1d array was expected. Please change the shape of y to (n_samples, ), for example using ravel().\n",
      "  y = column_or_1d(y, warn=True)\n"
     ]
    }
   ],
   "source": [
    "# Importing Bernoulli Naive Bayes classifier from scikit-learn\n",
    "from sklearn.naive_bayes import BernoulliNB  \n",
    "\n",
    "# Initializing the Bernoulli Naive Bayes classifier\n",
    "classifier = BernoulliNB()\n",
    "\n",
    "# Training the classifier using training data\n",
    "classifier.fit(X_train, y_train)\n",
    "\n",
    "# Making predictions on the test data\n",
    "y_pred = classifier.predict(X_test)\n",
    "\n",
    "# Importing confusion matrix metric from scikit-learn\n",
    "from sklearn.metrics import confusion_matrix  \n",
    "\n",
    "# Calculating the confusion matrix to evaluate the performance of the classifier\n",
    "cm = confusion_matrix(y_test, y_pred)\n",
    "\n",
    "# Printing the confusion matrix\n",
    "print(cm)\n",
    "\n",
    "# Importing classification report metric from scikit-learn\n",
    "from sklearn.metrics import classification_report  \n",
    "\n",
    "# Generating a classification report to summarize the performance of the classifier\n",
    "clf_report = classification_report(y_test, y_pred)\n",
    "\n",
    "# Printing the classification report\n",
    "print(clf_report)\n",
    "\n",
    "# Calculating the Area Under the Curve (AUC) score\n",
    "roc_auc= roc_auc_score(y_test, y_prob)\n",
    "\n",
    "# Printing the AUC score\n",
    "print(\"ROC AUC Score::\", roc_auc)\n",
    "\n"
   ]
  },
  {
   "cell_type": "code",
   "execution_count": null,
   "id": "f6df2997",
   "metadata": {},
   "outputs": [],
   "source": []
  },
  {
   "cell_type": "code",
   "execution_count": 65,
   "id": "2adfab1f",
   "metadata": {},
   "outputs": [
    {
     "name": "stdout",
     "output_type": "stream",
     "text": [
      "[[44  1]\n",
      " [22 53]]\n",
      "              precision    recall  f1-score   support\n",
      "\n",
      "           0       0.67      0.98      0.79        45\n",
      "           1       0.98      0.71      0.82        75\n",
      "\n",
      "    accuracy                           0.81       120\n",
      "   macro avg       0.82      0.84      0.81       120\n",
      "weighted avg       0.86      0.81      0.81       120\n",
      "\n",
      "ROC AUC Score:: 1.0\n"
     ]
    },
    {
     "name": "stderr",
     "output_type": "stream",
     "text": [
      "C:\\Users\\AB92922\\anaconda3\\lib\\site-packages\\sklearn\\utils\\validation.py:993: DataConversionWarning: A column-vector y was passed when a 1d array was expected. Please change the shape of y to (n_samples, ), for example using ravel().\n",
      "  y = column_or_1d(y, warn=True)\n"
     ]
    }
   ],
   "source": [
    "# Importing Complement Naive Bayes classifier from scikit-learn\n",
    "from sklearn.naive_bayes import ComplementNB  \n",
    "\n",
    "# Initializing the Complement Naive Bayes classifier\n",
    "classifier = ComplementNB()\n",
    "\n",
    "# Training the classifier using training data\n",
    "classifier.fit(X_train, y_train)\n",
    "\n",
    "# Making predictions on the test data\n",
    "y_pred = classifier.predict(X_test)\n",
    "\n",
    "# Importing confusion matrix metric from scikit-learn\n",
    "from sklearn.metrics import confusion_matrix  \n",
    "\n",
    "# Calculating the confusion matrix to evaluate the performance of the classifier\n",
    "cm = confusion_matrix(y_test, y_pred)\n",
    "\n",
    "# Printing the confusion matrix\n",
    "print(cm)\n",
    "\n",
    "# Importing classification report metric from scikit-learn\n",
    "from sklearn.metrics import classification_report  \n",
    "\n",
    "# Generating a classification report to summarize the performance of the classifier\n",
    "clf_report = classification_report(y_test, y_pred)\n",
    "\n",
    "# Printing the classification report\n",
    "print(clf_report)\n",
    "\n",
    "# Calculating the Area Under the Curve (AUC) score\n",
    "roc_auc= roc_auc_score(y_test, y_prob)\n",
    "\n",
    "# Printing the AUC score\n",
    "print(\"ROC AUC Score::\", roc_auc)\n",
    "\n"
   ]
  },
  {
   "cell_type": "code",
   "execution_count": null,
   "id": "898f70ed",
   "metadata": {},
   "outputs": [],
   "source": []
  },
  {
   "cell_type": "code",
   "execution_count": 66,
   "id": "828d967b",
   "metadata": {},
   "outputs": [
    {
     "name": "stdout",
     "output_type": "stream",
     "text": [
      "[[44  1]\n",
      " [22 53]]\n",
      "              precision    recall  f1-score   support\n",
      "\n",
      "           0       0.67      0.98      0.79        45\n",
      "           1       0.98      0.71      0.82        75\n",
      "\n",
      "    accuracy                           0.81       120\n",
      "   macro avg       0.82      0.84      0.81       120\n",
      "weighted avg       0.86      0.81      0.81       120\n",
      "\n",
      "ROC AUC Score:: 1.0\n"
     ]
    },
    {
     "name": "stderr",
     "output_type": "stream",
     "text": [
      "C:\\Users\\AB92922\\anaconda3\\lib\\site-packages\\sklearn\\utils\\validation.py:993: DataConversionWarning: A column-vector y was passed when a 1d array was expected. Please change the shape of y to (n_samples, ), for example using ravel().\n",
      "  y = column_or_1d(y, warn=True)\n"
     ]
    }
   ],
   "source": [
    "# Importing Categorical Naive Bayes classifier from scikit-learn\n",
    "from sklearn.naive_bayes import CategoricalNB  \n",
    "\n",
    "# Initializing the Categorical Naive Bayes classifier\n",
    "classifier = CategoricalNB()\n",
    "\n",
    "# Training the classifier using training data\n",
    "classifier.fit(X_train, y_train)\n",
    "\n",
    "# Making predictions on the test data\n",
    "#y_pred = classifier.predict(X_test)\n",
    "\n",
    "# Importing confusion matrix metric from scikit-learn\n",
    "from sklearn.metrics import confusion_matrix  \n",
    "\n",
    "# Calculating the confusion matrix to evaluate the performance of the classifier\n",
    "cm = confusion_matrix(y_test, y_pred)\n",
    "\n",
    "# Printing the confusion matrix\n",
    "print(cm)\n",
    "\n",
    "# Importing classification report metric from scikit-learn\n",
    "from sklearn.metrics import classification_report  \n",
    "\n",
    "# Generating a classification report to summarize the performance of the classifier\n",
    "clf_report = classification_report(y_test, y_pred)\n",
    "\n",
    "# Printing the classification report\n",
    "print(clf_report)\n",
    "\n",
    "# Calculating the Area Under the Curve (AUC) score\n",
    "roc_auc= roc_auc_score(y_test, y_prob)\n",
    "\n",
    "# Printing the AUC score\n",
    "print(\"ROC AUC Score::\", roc_auc)\n",
    "\n"
   ]
  },
  {
   "cell_type": "code",
   "execution_count": 67,
   "id": "e7a009c9",
   "metadata": {},
   "outputs": [
    {
     "name": "stdout",
     "output_type": "stream",
     "text": [
      "[[45  0]\n",
      " [ 3 72]]\n",
      "              precision    recall  f1-score   support\n",
      "\n",
      "           0       0.94      1.00      0.97        45\n",
      "           1       1.00      0.96      0.98        75\n",
      "\n",
      "    accuracy                           0.97       120\n",
      "   macro avg       0.97      0.98      0.97       120\n",
      "weighted avg       0.98      0.97      0.98       120\n",
      "\n",
      "ROC AUC Score:: 1.0\n"
     ]
    },
    {
     "name": "stderr",
     "output_type": "stream",
     "text": [
      "C:\\Users\\AB92922\\anaconda3\\lib\\site-packages\\sklearn\\utils\\validation.py:993: DataConversionWarning: A column-vector y was passed when a 1d array was expected. Please change the shape of y to (n_samples, ), for example using ravel().\n",
      "  y = column_or_1d(y, warn=True)\n"
     ]
    }
   ],
   "source": [
    "from sklearn.preprocessing import KBinsDiscretizer\n",
    "\n",
    "# Initialize the KBinsDiscretizer to discretize continuous features\n",
    "kbd = KBinsDiscretizer(n_bins=10, encode='ordinal', strategy='uniform')  # Adjust n_bins as needed\n",
    "\n",
    "# Fit and transform the training and test data\n",
    "X_train_discrete = kbd.fit_transform(X_train)\n",
    "X_test_discrete = kbd.transform(X_test)\n",
    "\n",
    "# Import CategoricalNB\n",
    "from sklearn.naive_bayes import CategoricalNB\n",
    "\n",
    "# Initialize and train the Categorical Naive Bayes classifier\n",
    "classifier = CategoricalNB()\n",
    "classifier.fit(X_train_discrete, y_train)\n",
    "\n",
    "# Make predictions on the test data\n",
    "y_pred = classifier.predict(X_test_discrete)\n",
    "\n",
    "# Calculate confusion matrix\n",
    "cm = confusion_matrix(y_test, y_pred)\n",
    "\n",
    "# Print confusion matrix\n",
    "print(cm)\n",
    "\n",
    "# Import classification_report\n",
    "from sklearn.metrics import classification_report\n",
    "\n",
    "# Generate classification report\n",
    "clf_report = classification_report(y_test, y_pred)\n",
    "\n",
    "# Print classification report\n",
    "print(clf_report)\n",
    "\n",
    "# Calculating the Area Under the Curve (AUC) score\n",
    "roc_auc= roc_auc_score(y_test, y_prob)\n",
    "\n",
    "# Printing the AUC score\n",
    "print(\"ROC AUC Score::\", roc_auc)\n",
    "\n"
   ]
  },
  {
   "cell_type": "code",
   "execution_count": null,
   "id": "9ca058bb",
   "metadata": {},
   "outputs": [],
   "source": []
  },
  {
   "cell_type": "code",
   "execution_count": null,
   "id": "d24d0527",
   "metadata": {},
   "outputs": [],
   "source": []
  }
 ],
 "metadata": {
  "kernelspec": {
   "display_name": "Python 3 (ipykernel)",
   "language": "python",
   "name": "python3"
  },
  "language_info": {
   "codemirror_mode": {
    "name": "ipython",
    "version": 3
   },
   "file_extension": ".py",
   "mimetype": "text/x-python",
   "name": "python",
   "nbconvert_exporter": "python",
   "pygments_lexer": "ipython3",
   "version": "3.9.13"
  }
 },
 "nbformat": 4,
 "nbformat_minor": 5
}
