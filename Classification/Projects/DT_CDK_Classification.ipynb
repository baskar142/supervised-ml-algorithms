{
 "cells": [
  {
   "cell_type": "code",
   "execution_count": 31,
   "id": "9eb34f1f",
   "metadata": {},
   "outputs": [],
   "source": [
    "# Importing necessary libraries\n",
    "# NumPy provides support for large, multi-dimensional arrays and matrices.\n",
    "import numpy as np\n",
    "# Pandas provides support for data manipulation and analysis.\n",
    "import pandas as pd\n",
    "# Matplotlib.pyplot is a plotting library in Python that provides a MATLAB-like interface for creating visualizations.\n",
    "import matplotlib.pyplot as plt"
   ]
  },
  {
   "cell_type": "code",
   "execution_count": 32,
   "id": "32cc556d",
   "metadata": {},
   "outputs": [],
   "source": [
    "# Load the dataset\n",
    "data = pd.read_csv(\"CKD.csv\")"
   ]
  },
  {
   "cell_type": "code",
   "execution_count": 33,
   "id": "cd28acce",
   "metadata": {},
   "outputs": [
    {
     "name": "stdout",
     "output_type": "stream",
     "text": [
      "   age         bp   al   su         bgr         bu        sc         sod  \\\n",
      "0  2.0  76.459948  3.0  0.0  148.112676  57.482105  3.077356  137.528754   \n",
      "1  3.0  76.459948  2.0  0.0  148.112676  22.000000  0.700000  137.528754   \n",
      "2  4.0  76.459948  1.0  0.0   99.000000  23.000000  0.600000  138.000000   \n",
      "3  5.0  76.459948  1.0  0.0  148.112676  16.000000  0.700000  138.000000   \n",
      "\n",
      "        pot       hrmo  ...  pc_normal  pcc_present  ba_present  htn_yes  \\\n",
      "0  4.627244  12.518156  ...          0            0           0        0   \n",
      "1  4.627244  10.700000  ...          1            0           0        0   \n",
      "2  4.400000  12.000000  ...          1            0           0        0   \n",
      "3  3.200000   8.100000  ...          1            0           0        0   \n",
      "\n",
      "   dm_yes  cad_yes  appet_yes  pe_yes  ane_yes  classification_yes  \n",
      "0       0        0          1       1        0                   1  \n",
      "1       0        0          1       0        0                   1  \n",
      "2       0        0          1       0        0                   1  \n",
      "3       0        0          1       0        1                   1  \n",
      "\n",
      "[4 rows x 28 columns]\n"
     ]
    }
   ],
   "source": [
    "# Convert categorical variables into dummy/indicator variables\n",
    "data = pd.get_dummies(data, drop_first=True)\n",
    "print(data.head(4))"
   ]
  },
  {
   "cell_type": "code",
   "execution_count": 34,
   "id": "c0d4339d",
   "metadata": {},
   "outputs": [],
   "source": [
    "# Create the dependent variable (target)\n",
    "dependent = data[[\"classification_yes\"]]"
   ]
  },
  {
   "cell_type": "code",
   "execution_count": 35,
   "id": "afc24817",
   "metadata": {},
   "outputs": [
    {
     "name": "stdout",
     "output_type": "stream",
     "text": [
      "age                   0\n",
      "bp                    0\n",
      "al                    0\n",
      "su                    0\n",
      "bgr                   0\n",
      "bu                    0\n",
      "sc                    0\n",
      "sod                   0\n",
      "pot                   0\n",
      "hrmo                  0\n",
      "pcv                   0\n",
      "wc                    0\n",
      "rc                    0\n",
      "sg_b                  0\n",
      "sg_c                  0\n",
      "sg_d                  0\n",
      "sg_e                  0\n",
      "rbc_normal            0\n",
      "pc_normal             0\n",
      "pcc_present           0\n",
      "ba_present            0\n",
      "htn_yes               0\n",
      "dm_yes                0\n",
      "cad_yes               0\n",
      "appet_yes             0\n",
      "pe_yes                0\n",
      "ane_yes               0\n",
      "classification_yes    0\n",
      "dtype: int64\n"
     ]
    }
   ],
   "source": [
    "# Check for missing values\n",
    "print(data.isnull().sum())"
   ]
  },
  {
   "cell_type": "code",
   "execution_count": 36,
   "id": "448721ee",
   "metadata": {},
   "outputs": [
    {
     "data": {
      "text/plain": [
       "Index(['age', 'bp', 'al', 'su', 'bgr', 'bu', 'sc', 'sod', 'pot', 'hrmo', 'pcv',\n",
       "       'wc', 'rc', 'sg_b', 'sg_c', 'sg_d', 'sg_e', 'rbc_normal', 'pc_normal',\n",
       "       'pcc_present', 'ba_present', 'htn_yes', 'dm_yes', 'cad_yes',\n",
       "       'appet_yes', 'pe_yes', 'ane_yes'],\n",
       "      dtype='object')"
      ]
     },
     "execution_count": 36,
     "metadata": {},
     "output_type": "execute_result"
    }
   ],
   "source": [
    "# Create the independent variables (features)\n",
    "independent = data[['age', 'bp', 'al', 'su', 'bgr', 'bu', 'sc', 'sod', 'pot', 'hrmo', 'pcv',\n",
    "       'wc', 'rc', 'sg_b', 'sg_c', 'sg_d', 'sg_e', 'rbc_normal', 'pc_normal',\n",
    "       'pcc_present', 'ba_present', 'htn_yes', 'dm_yes', 'cad_yes',\n",
    "       'appet_yes', 'pe_yes', 'ane_yes']]\n",
    "independent.columns"
   ]
  },
  {
   "cell_type": "code",
   "execution_count": 37,
   "id": "a9bb77f1",
   "metadata": {},
   "outputs": [],
   "source": [
    "# Importing train_test_split from sklearn.model_selection\n",
    "# This function is used for splitting the data into training and testing sets\n",
    "from sklearn.model_selection import train_test_split"
   ]
  },
  {
   "cell_type": "code",
   "execution_count": 38,
   "id": "a4965f57",
   "metadata": {},
   "outputs": [],
   "source": [
    "# Splitting data into training and testing sets\n",
    "# Train and test split ratio is 70% and 30% respectively\n",
    "X_train, X_test, y_train, y_test = train_test_split(independent, dependent, test_size=0.30, random_state=0)"
   ]
  },
  {
   "cell_type": "code",
   "execution_count": 39,
   "id": "dbb58181",
   "metadata": {},
   "outputs": [],
   "source": [
    "# Standardizing the features\n",
    "from sklearn.preprocessing import StandardScaler\n",
    "sc = StandardScaler()\n",
    "X_train = sc.fit_transform(X_train)\n",
    "X_test = sc.transform(X_test)"
   ]
  },
  {
   "cell_type": "code",
   "execution_count": 40,
   "id": "57b006d7",
   "metadata": {},
   "outputs": [],
   "source": [
    "# Importing DecisionTreeClassifier from sklearn.tree\n",
    "from sklearn.tree import DecisionTreeClassifier"
   ]
  },
  {
   "cell_type": "code",
   "execution_count": 41,
   "id": "788a6e3d",
   "metadata": {},
   "outputs": [],
   "source": [
    "# Importing GridSearchCV from sklearn.model_selection\n",
    "from sklearn.model_selection import GridSearchCV"
   ]
  },
  {
   "cell_type": "code",
   "execution_count": 42,
   "id": "6be8d8db",
   "metadata": {},
   "outputs": [],
   "source": [
    "# Define the parameter grid for GridSearchCV\n",
    "parameter_grid = {\n",
    "    'criterion': ['gini', 'entropy'],\n",
    "    'max_depth': [None, 5, 10, 15, 20],\n",
    "    'min_samples_split': [2, 5, 10],\n",
    "    'min_samples_leaf': [1, 2, 4]\n",
    "}"
   ]
  },
  {
   "cell_type": "code",
   "execution_count": 43,
   "id": "6fb8069c",
   "metadata": {},
   "outputs": [],
   "source": [
    "# Initialize GridSearchCV with f1_macro scoring\n",
    "grid_search = GridSearchCV(DecisionTreeClassifier(), param_grid=parameter_grid, cv=5, verbose=2, n_jobs=-1, scoring='f1_macro')"
   ]
  },
  {
   "cell_type": "code",
   "execution_count": 44,
   "id": "85390a36",
   "metadata": {},
   "outputs": [
    {
     "name": "stdout",
     "output_type": "stream",
     "text": [
      "Fitting 5 folds for each of 90 candidates, totalling 450 fits\n"
     ]
    },
    {
     "data": {
      "text/plain": [
       "GridSearchCV(cv=5, estimator=DecisionTreeClassifier(), n_jobs=-1,\n",
       "             param_grid={'criterion': ['gini', 'entropy'],\n",
       "                         'max_depth': [None, 5, 10, 15, 20],\n",
       "                         'min_samples_leaf': [1, 2, 4],\n",
       "                         'min_samples_split': [2, 5, 10]},\n",
       "             scoring='f1_macro', verbose=2)"
      ]
     },
     "execution_count": 44,
     "metadata": {},
     "output_type": "execute_result"
    }
   ],
   "source": [
    "# Fit the model to the training data\n",
    "grid_search.fit(X_train, y_train)"
   ]
  },
  {
   "cell_type": "code",
   "execution_count": 47,
   "id": "5329252a",
   "metadata": {},
   "outputs": [],
   "source": [
    "# Print the best hyperparameters found by GridSearchCV\n",
    "best_decision_tree = grid_search.best_estimator_"
   ]
  },
  {
   "cell_type": "code",
   "execution_count": 48,
   "id": "4e5d0d7c",
   "metadata": {},
   "outputs": [],
   "source": [
    "# Predict on the test set\n",
    "test_predictions = best_decision_tree.predict(X_test)"
   ]
  },
  {
   "cell_type": "code",
   "execution_count": 49,
   "id": "3d163940",
   "metadata": {},
   "outputs": [],
   "source": [
    "# Retrieve cross-validation results\n",
    "cv_results = grid_search.cv_results_"
   ]
  },
  {
   "cell_type": "code",
   "execution_count": 50,
   "id": "a90b26d4",
   "metadata": {},
   "outputs": [],
   "source": [
    "# Importing necessary libraries for evaluation metrics\n",
    "from sklearn.metrics import confusion_matrix  # Importing confusion matrix to evaluate classification performance\n",
    "from sklearn.metrics import classification_report  # Importing classification report to summarize classification performance\n",
    "from sklearn.metrics import roc_curve, roc_auc_score  # Importing ROC curve and AUC score for binary classification evaluation"
   ]
  },
  {
   "cell_type": "code",
   "execution_count": 51,
   "id": "05cf8def",
   "metadata": {},
   "outputs": [
    {
     "name": "stdout",
     "output_type": "stream",
     "text": [
      "Confusion Matrix:\n",
      "[[43  2]\n",
      " [ 6 69]]\n"
     ]
    }
   ],
   "source": [
    "# Confusion matrix\n",
    "conf_matrix = confusion_matrix(y_test, test_predictions)\n",
    "print(\"Confusion Matrix:\")\n",
    "print(conf_matrix)"
   ]
  },
  {
   "cell_type": "code",
   "execution_count": 52,
   "id": "06f99ea0",
   "metadata": {},
   "outputs": [
    {
     "name": "stdout",
     "output_type": "stream",
     "text": [
      "Classification Report:\n",
      "              precision    recall  f1-score   support\n",
      "\n",
      "           0       0.88      0.96      0.91        45\n",
      "           1       0.97      0.92      0.95        75\n",
      "\n",
      "    accuracy                           0.93       120\n",
      "   macro avg       0.92      0.94      0.93       120\n",
      "weighted avg       0.94      0.93      0.93       120\n",
      "\n"
     ]
    }
   ],
   "source": [
    "#Classification report\n",
    "classification_rep = classification_report(y_test, test_predictions)\n",
    "print(\"Classification Report:\")\n",
    "print(classification_rep)"
   ]
  },
  {
   "cell_type": "code",
   "execution_count": 53,
   "id": "e0a22ea7",
   "metadata": {},
   "outputs": [
    {
     "name": "stdout",
     "output_type": "stream",
     "text": [
      "ROC AUC Score: 0.9441481481481483\n"
     ]
    }
   ],
   "source": [
    "# ROC AUC score\n",
    "test_probabilities = best_decision_tree.predict_proba(X_test)[:, 1]\n",
    "roc_auc = roc_auc_score(y_test, test_probabilities)\n",
    "print(f\"ROC AUC Score: {roc_auc}\")"
   ]
  },
  {
   "cell_type": "code",
   "execution_count": 54,
   "id": "9fdd2d26",
   "metadata": {},
   "outputs": [
    {
     "data": {
      "image/png": "[encoded data removed]",
      "text/plain": [
       "<Figure size 800x600 with 1 Axes>"
      ]
     },
     "metadata": {},
     "output_type": "display_data"
    }
   ],
   "source": [
    "import matplotlib.pyplot as plt\n",
    "from sklearn.metrics import roc_curve, roc_auc_score\n",
    "\n",
    "# Calculating false positive rate, true positive rate, and thresholds\n",
    "fpr, tpr, thresholds = roc_curve(y_test, test_probabilities)\n",
    "\n",
    "# Calculating ROC AUC score\n",
    "roc_auc = roc_auc_score(y_test, test_probabilities)\n",
    "\n",
    "# Plotting the ROC curve\n",
    "plt.figure(figsize=(8, 6))\n",
    "plt.plot(fpr, tpr, color='blue', lw=2, label='ROC curve (AUC = %0.2f)' % roc_auc)\n",
    "plt.plot([0, 1], [0, 1], color='red', linestyle='--')\n",
    "plt.xlabel('False Positive Rate')\n",
    "plt.ylabel('True Positive Rate')\n",
    "plt.title('Receiver Operating Characteristic (ROC) Curve')\n",
    "plt.legend(loc='lower right')\n",
    "plt.show()"
   ]
  },
  {
   "cell_type": "code",
   "execution_count": null,
   "id": "8da7ba44",
   "metadata": {},
   "outputs": [],
   "source": []
  }
 ],
 "metadata": {
  "kernelspec": {
   "display_name": "Python 3 (ipykernel)",
   "language": "python",
   "name": "python3"
  },
  "language_info": {
   "codemirror_mode": {
    "name": "ipython",
    "version": 3
   },
   "file_extension": ".py",
   "mimetype": "text/x-python",
   "name": "python",
   "nbconvert_exporter": "python",
   "pygments_lexer": "ipython3",
   "version": "3.9.13"
  }
 },
 "nbformat": 4,
 "nbformat_minor": 5
}
